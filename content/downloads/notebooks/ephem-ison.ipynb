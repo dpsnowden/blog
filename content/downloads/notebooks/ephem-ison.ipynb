{
 "metadata": {
  "name": ""
 },
 "nbformat": 3,
 "nbformat_minor": 0,
 "worksheets": [
  {
   "cells": [
    {
     "cell_type": "code",
     "collapsed": false,
     "input": [
      "from IPython.core.display import HTML\n",
      "\n",
      "with open('creative_commons.txt', 'r') as f:\n",
      "    html = f.read()\n",
      "    \n",
      "with open('./styles/custom.css', 'r') as f:\n",
      "    styles = f.read()\n",
      "    \n",
      "HTML(styles)\n",
      "\n",
      "name = 'ephem-ison'\n",
      "\n",
      "html = \"\"\"\n",
      "<small>\n",
      "<p> This post was written as an IPython notebook. It is available for <a href=\"http://ocef\n",
      "paf.github.com/downloads/notebooks/%s.ipynb\">download</a> or as a static <a href=\"http://\n",
      "nbviewer.ipython.org/url/ocefpaf.github.com/downloads/notebooks/%s.ipynb\">html</a>.</p>\n",
      "<p></p>\n",
      "%s \"\"\" % (name, name, html)"
     ],
     "language": "python",
     "metadata": {},
     "outputs": [],
     "prompt_number": 1
    },
    {
     "cell_type": "markdown",
     "metadata": {},
     "source": [
      "Since the last post I've been playing more with\n",
      "[PyEphem](http://rhodesmill.org/pyephem/).  One of the many interesting features of this\n",
      "astronomical computations module is the ability to read external orbital elements.\n",
      "\n",
      "Here is an example on how to create an [ISON comet](http://www.nasa.gov/content/goddard/timeline-of-comet-ison-s-dangerous-journey/)\n",
      "object.\n",
      "\n",
      "We can get the ISON comet orbital data from\n",
      "[this](http://www.minorplanetcenter.net/iau/Ephemerides/Comets/Soft03Cmt.txt)\n",
      "link."
     ]
    },
    {
     "cell_type": "code",
     "collapsed": false,
     "input": [
      "import ephem\n",
      "import numpy as np\n",
      "import matplotlib.pyplot as plt\n",
      "\n",
      "ISON = \"C/2012 S1 (ISON),h,11/28.7744/2013,62.3994,295.6528,345.5644,1.000002,0.012444,2000,7.5,3.2\"\n",
      "comet = ephem.readdb(ISON)\n",
      "print(comet)"
     ],
     "language": "python",
     "metadata": {},
     "outputs": [
      {
       "output_type": "stream",
       "stream": "stdout",
       "text": [
        "<ephem.HyperbolicBody 'C/2012 S1 (ISON)' at 0x424bf10>\n"
       ]
      }
     ],
     "prompt_number": 3
    },
    {
     "cell_type": "markdown",
     "metadata": {},
     "source": [
      "Now let's create a date vector from today up to the end of year and check\n",
      "ISON distance from the Earth and the Sun."
     ]
    },
    {
     "cell_type": "code",
     "collapsed": false,
     "input": [
      "from pandas import DataFrame, date_range\n",
      "\n",
      "days = date_range(start='2013/10/28', end='2013/12/31', freq='D')\n",
      "\n",
      "earth_d, sun_d = [], [] \n",
      "for day in days:\n",
      "    comet.compute(day)\n",
      "    earth_d.append(comet.earth_distance)\n",
      "    sun_d.append(comet.sun_distance)\n",
      "    \n",
      "df = DataFrame(np.c_[earth_d, sun_d], index=days, columns=['Earth', 'Sun'])\n",
      "\n",
      "from scipy import constants\n",
      "conversion = constants.au * 1e-3\n",
      "df['Sun km'] = df['Sun'] * conversion\n",
      "df['Earth km'] = df['Earth'] * conversion\n",
      "\n",
      "df.head(5)"
     ],
     "language": "python",
     "metadata": {},
     "outputs": [
      {
       "html": [
        "<div style=\"max-height:1000px;max-width:1500px;overflow:auto;\">\n",
        "<table border=\"1\" class=\"dataframe\">\n",
        "  <thead>\n",
        "    <tr style=\"text-align: right;\">\n",
        "      <th></th>\n",
        "      <th>Earth</th>\n",
        "      <th>Sun</th>\n",
        "      <th>Sun km</th>\n",
        "      <th>Earth km</th>\n",
        "    </tr>\n",
        "  </thead>\n",
        "  <tbody>\n",
        "    <tr>\n",
        "      <th>2013-10-28</th>\n",
        "      <td> 1.343978</td>\n",
        "      <td> 1.091559</td>\n",
        "      <td> 1.632950e+08</td>\n",
        "      <td> 2.010563e+08</td>\n",
        "    </tr>\n",
        "    <tr>\n",
        "      <th>2013-10-29</th>\n",
        "      <td> 1.315059</td>\n",
        "      <td> 1.068280</td>\n",
        "      <td> 1.598124e+08</td>\n",
        "      <td> 1.967301e+08</td>\n",
        "    </tr>\n",
        "    <tr>\n",
        "      <th>2013-10-30</th>\n",
        "      <td> 1.286399</td>\n",
        "      <td> 1.044747</td>\n",
        "      <td> 1.562919e+08</td>\n",
        "      <td> 1.924426e+08</td>\n",
        "    </tr>\n",
        "    <tr>\n",
        "      <th>2013-10-31</th>\n",
        "      <td> 1.258032</td>\n",
        "      <td> 1.020949</td>\n",
        "      <td> 1.527318e+08</td>\n",
        "      <td> 1.881990e+08</td>\n",
        "    </tr>\n",
        "    <tr>\n",
        "      <th>2013-11-01</th>\n",
        "      <td> 1.229998</td>\n",
        "      <td> 0.996874</td>\n",
        "      <td> 1.491302e+08</td>\n",
        "      <td> 1.840051e+08</td>\n",
        "    </tr>\n",
        "  </tbody>\n",
        "</table>\n",
        "</div>"
       ],
       "metadata": {},
       "output_type": "pyout",
       "prompt_number": 4,
       "text": [
        "               Earth       Sun        Sun km      Earth km\n",
        "2013-10-28  1.343978  1.091559  1.632950e+08  2.010563e+08\n",
        "2013-10-29  1.315059  1.068280  1.598124e+08  1.967301e+08\n",
        "2013-10-30  1.286399  1.044747  1.562919e+08  1.924426e+08\n",
        "2013-10-31  1.258032  1.020949  1.527318e+08  1.881990e+08\n",
        "2013-11-01  1.229998  0.996874  1.491302e+08  1.840051e+08"
       ]
      }
     ],
     "prompt_number": 4
    },
    {
     "cell_type": "code",
     "collapsed": false,
     "input": [
      "kw = dict(markeredgecolor='k', marker='o', linestyle='none')\n",
      "arrowprops = dict(arrowstyle=\"->\", connectionstyle=\"arc3,rad=.2\", color='k')\n",
      "\n",
      "fig, ax = plt.subplots(figsize=(8, 4))\n",
      "sx, sy, sm = df['Sun'].argmin(), df['Sun'].min(), df['Sun km'].min()\n",
      "ex, ey, em = df['Earth'].argmin(), df['Earth'].min(), df['Earth km'].min()\n",
      "\n",
      "ax.plot(ex, ey, markerfacecolor='#339933', **kw)\n",
      "ax.plot(sx, sy, markerfacecolor='#ff3333', **kw)\n",
      "\n",
      "ax.annotate('Closest to Earth is\\n%s km' % em,\n",
      "            xy=(ex, ey), xycoords='data',\n",
      "            xytext=(-20, 30), textcoords='offset points', arrowprops=arrowprops)\n",
      "\n",
      "ax.annotate('Closest to the Sun is\\n%s km' % sm,\n",
      "            xy=(sx, sy), xycoords='data',\n",
      "            xytext=(-180, 30), textcoords='offset points', arrowprops=arrowprops)\n",
      "\n",
      "ax = df[['Earth', 'Sun']].plot(ax=ax, zorder=0, color=['#339933', '#ff3333'], linewidth=2)\n",
      "_ = ax.set_ylabel('Distance [AU]')"
     ],
     "language": "python",
     "metadata": {},
     "outputs": [
      {
       "metadata": {},
       "output_type": "display_data",
       "png": "[encoded data removed]",
       "text": [
        "<matplotlib.figure.Figure at 0x4e5a450>"
       ]
      }
     ],
     "prompt_number": 5
    },
    {
     "cell_type": "markdown",
     "metadata": {},
     "source": [
      "Finally, if ISON survives its \"sungrazing orbit,\" we can try to see it when it will be closest to the Earth."
     ]
    },
    {
     "cell_type": "code",
     "collapsed": false,
     "input": [
      "obs = ephem.Observer()\n",
      "obs.lon = np.deg2rad(-46.665)\n",
      "obs.lat = np.deg2rad(-23.473)\n",
      "obs.date = ex\n",
      "comet.compute(obs)\n",
      "print(\"Date: %s\\nRight ascension: %s\\nDeclination: %s\\nMagnitude: %s\" %\n",
      "      (obs.date, comet.ra, comet.dec, comet.mag))"
     ],
     "language": "python",
     "metadata": {},
     "outputs": [
      {
       "output_type": "stream",
       "stream": "stdout",
       "text": [
        "Date: 2013/12/27 00:00:00\n",
        "Right ascension: 16:22:39.01\n",
        "Declination: 52:59:54.6\n",
        "Magnitude: 5.69\n"
       ]
      }
     ],
     "prompt_number": 6
    },
    {
     "cell_type": "code",
     "collapsed": false,
     "input": [
      "from IPython.display import YouTubeVideo\n",
      "YouTubeVideo(\"A1yH_DuC88M\", autoplay=0, theme=\"light\", color=\"red\")"
     ],
     "language": "python",
     "metadata": {},
     "outputs": [
      {
       "html": [
        "\n",
        "        <iframe\n",
        "            width=\"400\"\n",
        "            height=300\"\n",
        "            src=\"http://www.youtube.com/embed/A1yH_DuC88M?color=red&theme=light&autoplay=0\"\n",
        "            frameborder=\"0\"\n",
        "            allowfullscreen\n",
        "        ></iframe>\n",
        "        "
       ],
       "metadata": {},
       "output_type": "pyout",
       "prompt_number": 7,
       "text": [
        "<IPython.lib.display.YouTubeVideo at 0x4e44e10>"
       ]
      }
     ],
     "prompt_number": 7
    },
    {
     "cell_type": "code",
     "collapsed": false,
     "input": [
      "HTML(html)"
     ],
     "language": "python",
     "metadata": {},
     "outputs": [
      {
       "html": [
        "\n",
        "<small>\n",
        "<p> This post was written as an IPython notebook. It is available for <a href=\"http://ocef\n",
        "paf.github.com/downloads/notebooks/ephem-ison.ipynb\">download</a> or as a static <a href=\"http://\n",
        "nbviewer.ipython.org/url/ocefpaf.github.com/downloads/notebooks/ephem-ison.ipynb\">html</a>.</p>\n",
        "<p></p>\n",
        "<a rel=\"license\" href=\"http://creativecommons.org/licenses/by-sa/4.0/\"><img\n",
        "alt=\"Creative Commons License\" style=\"border-width:0\"\n",
        "src=\"http://i.creativecommons.org/l/by-sa/4.0/88x31.png\" /></a><br /><span\n",
        "xmlns:dct=\"http://purl.org/dc/terms/\"\n",
        "property=\"dct:title\">python4oceanographers</span> by <a\n",
        "xmlns:cc=\"http://creativecommons.org/ns#\" href=\"http://ocefpaf.github.io/\"\n",
        "property=\"cc:attributionName\" rel=\"cc:attributionURL\">Filipe Fernandes</a> is\n",
        "licensed under a <a rel=\"license\"\n",
        "href=\"http://creativecommons.org/licenses/by-sa/4.0/\">Creative Commons\n",
        "Attribution-ShareAlike 4.0 International License</a>.<br />Based on a work at <a\n",
        "xmlns:dct=\"http://purl.org/dc/terms/\" href=\"http://ocefpaf.github.io/\"\n",
        "rel=\"dct:source\">http://ocefpaf.github.io/</a>.\n",
        " "
       ],
       "metadata": {},
       "output_type": "pyout",
       "prompt_number": 2,
       "text": [
        "<IPython.core.display.HTML at 0x29309d0>"
       ]
      }
     ],
     "prompt_number": 2
    }
   ],
   "metadata": {}
  }
 ]
}