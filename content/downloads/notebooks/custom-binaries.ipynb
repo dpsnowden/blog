{
 "metadata": {
  "name": ""
 },
 "nbformat": 3,
 "nbformat_minor": 0,
 "worksheets": [
  {
   "cells": [
    {
     "cell_type": "code",
     "collapsed": false,
     "input": [
      "from IPython.core.display import HTML\n",
      "\n",
      "with open('creative_commons.txt', 'r') as f:\n",
      "    html = f.read()\n",
      "    \n",
      "with open('./styles/custom.css', 'r') as f:\n",
      "    styles = f.read()\n",
      "    \n",
      "HTML(styles)\n",
      "\n",
      "name = 'custom-binaries'\n",
      "\n",
      "html = \"\"\"\n",
      "<small>\n",
      "<p> This post was written as an IPython notebook. It is available for <a href=\"http://ocef\n",
      "paf.github.com/downloads/notebooks/%s.ipynb\">download</a> or as a static <a href=\"http://\n",
      "nbviewer.ipython.org/url/ocefpaf.github.com/downloads/notebooks/%s.ipynb\">html</a>.</p>\n",
      "<p></p>\n",
      "%s \"\"\" % (name, name, html)"
     ],
     "language": "python",
     "metadata": {},
     "outputs": [],
     "prompt_number": 1
    },
    {
     "cell_type": "heading",
     "level": 1,
     "metadata": {},
     "source": [
      "Reading custom binaries."
     ]
    },
    {
     "cell_type": "markdown",
     "metadata": {},
     "source": [
      "<!-- PELICAN_BEGIN_SUMMARY -->\n",
      "Every now and then we stumble upon some weird custom binary file containing\n",
      "that precious piece of data.  This post show how to read the weirdest one\n",
      "I have see so far.\n",
      "<!-- PELICAN_END_SUMMARY -->"
     ]
    },
    {
     "cell_type": "markdown",
     "metadata": {},
     "source": [
      "My former advisor had all his data stored in a custom binary format he called\n",
      "`OASP` (instead of using the wonderful, machine independent, feature-rich\n",
      "[netcdf](http://cf-pcmdi.llnl.gov/) with climate and forecast metadata that we all should be using!).\n",
      "\n",
      "His programs to read such data were not working anymore due to\n",
      "[endianness](http://en.wikipedia.org/wiki/Endianness) issues.  Therefore, to\n",
      "read that data (and hopefully graduate one day) I had workaround these issues\n",
      "relying heavily on `NumPy's` [fromfile](http://docs.scipy.org/doc/numpy/reference/generated/numpy.fromfile.html)."
     ]
    },
    {
     "cell_type": "code",
     "collapsed": false,
     "input": [
      "import numpy as np"
     ],
     "language": "python",
     "metadata": {},
     "outputs": [],
     "prompt_number": 2
    },
    {
     "cell_type": "markdown",
     "metadata": {},
     "source": [
      "Let's define two quick functions to deal with the time standard used in the\n",
      "binary files."
     ]
    },
    {
     "cell_type": "code",
     "collapsed": false,
     "input": [
      "from netCDF4 import netcdftime\n",
      "from datetime import timedelta\n",
      "\n",
      "def jhour2datetime(jhours):\n",
      "    \"\"\"Convert OASP Julian hours to datetime object.\n",
      "    Uses netcdftime.DateFromJulianDay\n",
      "                        jhours-12\n",
      "    datetime_object =  ----------- + offset\n",
      "                           24.0\n",
      "\n",
      "    OASP is offsetted by 241502 days to match netcdftime.DateFromJulianDay,\n",
      "    and 12 hours are added to make it start at midnight instead of noon.\n",
      "\n",
      "    Example\n",
      "    --------\n",
      "    >>> oaspy.jhour2datetime([859296, 859928])\n",
      "    [datetime.datetime(1998, 1, 11, 0, 0), datetime.datetime(1998, 2, 6, 8, 0)]\n",
      "    \"\"\"\n",
      "    offset = 2415021\n",
      "    if isinstance(jhours,list):\n",
      "        jhours = (np.array(jhours)-12)/24.\n",
      "        jdate  = ([netcdftime.DateFromJulianDay(jhours[d]+offset) for d in\n",
      "                   range(len(jhours))])\n",
      "    else:\n",
      "        jhours = (jhours-12)/24.\n",
      "        jdate  = netcdftime.DateFromJulianDay(jhours+offset)\n",
      "    return jdate\n",
      "\n",
      "\n",
      "def datetime2jhour(dtimeobj):\n",
      "    \"\"\"Convert datetime object to OASP Julian hours using.\n",
      "    Uses netcdftime.JulianDayFromDate.\n",
      "    See jhour2datetime for details.\n",
      "\n",
      "    Example\n",
      "    -------\n",
      "    >>> oaspy.datetime2jhour([datetime.datetime(1998, 1, 11, 0, 0), datetime.datetime(1998, 2, 6, 8, 0)])\n",
      "    array([ 859296.,  859928.])\n",
      "    \"\"\"\n",
      "    offset = 2415021\n",
      "\n",
      "    if isinstance(dtimeobj,list):\n",
      "        jhours = ([netcdftime.JulianDayFromDate(dtimeobj[d])-offset for d in\n",
      "                   range(len(dtimeobj))])\n",
      "    else:\n",
      "        jhours = netcdftime.JulianDayFromDate(dtimeobj)-offset\n",
      "\n",
      "    jhours = np.array(jhours)\n",
      "    jhours = (jhours*24.)+12\n",
      "    return jhours"
     ],
     "language": "python",
     "metadata": {},
     "outputs": [],
     "prompt_number": 3
    },
    {
     "cell_type": "markdown",
     "metadata": {},
     "source": [
      "Now let's and create a class akin to `netCDF4` Dataset to read the binary file."
     ]
    },
    {
     "cell_type": "code",
     "collapsed": false,
     "input": [
      "class Dataset(object):\n",
      "    \"\"\"Read OASP binary format and store in a object with:\n",
      "        filename\n",
      "        header\n",
      "        data\n",
      "        dates\n",
      "        stats\n",
      "        parameter file\n",
      "    \"\"\"\n",
      "\n",
      "    def __init__(self, filename, endianess='big'):\n",
      "        \"\"\"Read a OASP binary file\n",
      "        > means Big-endian\n",
      "        c  -> character\n",
      "        f8 -> float64 (double precision)\n",
      "        i4 -> interger32\n",
      "        f4 -> float32\n",
      "        \"\"\"\n",
      "        self.filename = filename\n",
      "        self.header = ''\n",
      "        self.data = []\n",
      "        self.dates = []\n",
      "        self.stats = ''\n",
      "        self.par = ''\n",
      "        if endianess == 'big':\n",
      "            en = '>'\n",
      "        elif endianess == 'little':\n",
      "            en = '<'\n",
      "        else:\n",
      "            raise ValueError(\"Cannot determine endianess. Try 'big' or 'little'.\")\n",
      "\n",
      "        with open(filename, 'rb') as f:\n",
      "            # 38 characters for header.\n",
      "            header = list(np.fromfile(f, '%sc' % en, count=38))\n",
      "            # date[1] and date[3] start/end in oasp julian hours.\n",
      "            jhours = np.fromfile(f, '%sf8' % en, count=4)[1::2]\n",
      "            # rec[2] -> record length.\n",
      "            rec = np.fromfile(f, '%si4' % en, count=3)[2]\n",
      "            # inc[1] -> record time increment in hours.\n",
      "            inc = np.fromfile(f, '%sf8' % en, count=2)[1]\n",
      "            start = jhour2datetime(jhours[0])\n",
      "            end = jhour2datetime(jhours[1])\n",
      "            # From start date to record number using increment.\n",
      "            self.dates = np.asanyarray([start + timedelta(hours=inc*n) for\n",
      "                                        n in range(rec)])\n",
      "            # Remove newline and file creation dates.\n",
      "            self.header += \"filename:      %s\" % ''.join(header)[1:13]\n",
      "            self.header += (\"creation date: \" + ''.join(header)[13:21] +\n",
      "                            \"   \" + ''.join(header)[21:])\n",
      "            self.header += \"\\n\" + \"start date:    \" + str(self.dates[0])\n",
      "            self.header += \"\\n\" + \"end date:      \" + str(self.dates[-1])\n",
      "            self.header += \"\\n\" + \"increment:     \" + str(inc)\n",
      "            self.header += \"\\n\" + \"record length  \" + str(rec)\n",
      "            # Data eliminating Fortran \"record\".\n",
      "            self.data = np.fromfile(f, '%sf4' % en, count=rec*3)[2::3]\n",
      "            # Basic stats.\n",
      "            self.stats = \"%s: %.2f\" % (\"Max\",  self.data.max())\n",
      "            self.stats += \"%s: %.2f\" % (\"\\nMin\",  self.data.min())\n",
      "            self.stats += \"%s: %.2f\" % (\"\\nMean\", self.data.mean())\n",
      "            self.stats += \"%s: %.2f\" % (\"\\nMedian\", np.median(self.data))\n",
      "            self.stats += \"%s: %.2f\" % (\"\\nStd\", self.data.std())\n",
      "            # Parameter file.\n",
      "            self.par += \"y\\n\"\n",
      "            self.par += filename + \".asc\\n\"\n",
      "            self.par += '1' + \"\\n\"\n",
      "            self.par += '1' + \"\\n\"\n",
      "            self.par += '3' + \"\\n\"\n",
      "            self.par += '0' + \"\\n\"\n",
      "            self.par += str(jhours[0])+ \"\\n\"\n",
      "            self.par += str(inc)+ \"\\n\"\n",
      "            self.par += \"1,\" + filename + \"\\n\"\n",
      "            self.par += '0' + \"\\n\"\n",
      "            self.par += \"$$\""
     ],
     "language": "python",
     "metadata": {},
     "outputs": [],
     "prompt_number": 4
    },
    {
     "cell_type": "code",
     "collapsed": false,
     "input": [
      "wbsst = Dataset('./data/wbsst.bin')"
     ],
     "language": "python",
     "metadata": {},
     "outputs": [],
     "prompt_number": 5
    },
    {
     "cell_type": "markdown",
     "metadata": {},
     "source": [
      "Let's check the file header:"
     ]
    },
    {
     "cell_type": "code",
     "collapsed": false,
     "input": [
      "print(wbsst.header)"
     ],
     "language": "python",
     "metadata": {},
     "outputs": [
      {
       "output_type": "stream",
       "stream": "stdout",
       "text": [
        "filename:      WBsst.bin \n",
        "\u0010creation date: 04/12/**   10:02:13\n",
        "start date:    1998-01-10 22:00:00\n",
        "end date:      1998-02-06 08:00:00\n",
        "increment:     0.5\n",
        "record length  1269\n"
       ]
      }
     ],
     "prompt_number": 6
    },
    {
     "cell_type": "markdown",
     "metadata": {},
     "source": [
      "Now some information regarding the stored data:"
     ]
    },
    {
     "cell_type": "code",
     "collapsed": false,
     "input": [
      "print(wbsst.stats)"
     ],
     "language": "python",
     "metadata": {},
     "outputs": [
      {
       "output_type": "stream",
       "stream": "stdout",
       "text": [
        "Max: 6.66\n",
        "Min: 4.52\n",
        "Mean: 5.74\n",
        "Median: 5.67\n",
        "Std: 0.67\n"
       ]
      }
     ],
     "prompt_number": 7
    },
    {
     "cell_type": "markdown",
     "metadata": {},
     "source": [
      "Finally let's see the data."
     ]
    },
    {
     "cell_type": "code",
     "collapsed": false,
     "input": [
      "from mpltools import style\n",
      "style.use(\"ggplot\")\n",
      "\n",
      "fig, ax = plt.subplots(figsize=(12, 6))\n",
      "_ = ax.plot(wbsst.dates, wbsst.data)\n",
      "_ = ax.set_ylabel(r\"Air Temperature [$^\\circ$C]\")"
     ],
     "language": "python",
     "metadata": {},
     "outputs": [
      {
       "metadata": {},
       "output_type": "display_data",
       "png": "[encoded data removed]",
       "text": [
        "<matplotlib.figure.Figure at 0x45c50d0>"
       ]
      }
     ],
     "prompt_number": 8
    },
    {
     "cell_type": "markdown",
     "metadata": {},
     "source": [
      "The class also re-generate the original `parameter` file used to create the\n",
      "original OASP FORTRAN binary file."
     ]
    },
    {
     "cell_type": "code",
     "collapsed": false,
     "input": [
      "print(wbsst.par)"
     ],
     "language": "python",
     "metadata": {},
     "outputs": [
      {
       "output_type": "stream",
       "stream": "stdout",
       "text": [
        "y\n",
        "./data/wbsst.bin.asc\n",
        "1\n",
        "1\n",
        "3\n",
        "0\n",
        "859294.0\n",
        "0.5\n",
        "1,./data/wbsst.bin\n",
        "0\n",
        "$$\n"
       ]
      }
     ],
     "prompt_number": 9
    },
    {
     "cell_type": "code",
     "collapsed": false,
     "input": [
      "HTML(html)"
     ],
     "language": "python",
     "metadata": {},
     "outputs": [
      {
       "html": [
        "\n",
        "<small>\n",
        "<p> This post was written as an IPython notebook. It is available for <a href=\"http://ocef\n",
        "paf.github.com/downloads/notebooks/custom-binaries.ipynb\">download</a> or as a static <a href=\"http://\n",
        "nbviewer.ipython.org/url/ocefpaf.github.com/downloads/notebooks/custom-binaries.ipynb\">html</a>.</p>\n",
        "<p></p>\n",
        "<a rel=\"license\" href=\"http://creativecommons.org/licenses/by-sa/4.0/\"><img\n",
        "alt=\"Creative Commons License\" style=\"border-width:0\"\n",
        "src=\"http://i.creativecommons.org/l/by-sa/4.0/88x31.png\" /></a><br /><span\n",
        "xmlns:dct=\"http://purl.org/dc/terms/\"\n",
        "property=\"dct:title\">python4oceanographers</span> by <a\n",
        "xmlns:cc=\"http://creativecommons.org/ns#\" href=\"http://ocefpaf.github.io/\"\n",
        "property=\"cc:attributionName\" rel=\"cc:attributionURL\">Filipe Fernandes</a> is\n",
        "licensed under a <a rel=\"license\"\n",
        "href=\"http://creativecommons.org/licenses/by-sa/4.0/\">Creative Commons\n",
        "Attribution-ShareAlike 4.0 International License</a>.<br />Based on a work at <a\n",
        "xmlns:dct=\"http://purl.org/dc/terms/\" href=\"http://ocefpaf.github.io/\"\n",
        "rel=\"dct:source\">http://ocefpaf.github.io/</a>.\n",
        " "
       ],
       "metadata": {},
       "output_type": "pyout",
       "prompt_number": 2,
       "text": [
        "<IPython.core.display.HTML at 0x348f9d0>"
       ]
      }
     ],
     "prompt_number": 2
    }
   ],
   "metadata": {}
  }
 ]
}