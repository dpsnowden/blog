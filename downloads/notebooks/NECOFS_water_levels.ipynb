{
 "metadata": {
  "name": "NECOFS_water_levels"
 },
 "nbformat": 3,
 "nbformat_minor": 0,
 "worksheets": [
  {
   "cells": [
    {
     "cell_type": "code",
     "collapsed": false,
     "input": [
      "from IPython.core.display import HTML\n",
      "\n",
      "with open('creative_commons.txt', 'r') as f:\n",
      "    html = f.read()\n",
      "    \n",
      "with open('./styles/custom.css', 'r') as f:\n",
      "    styles = f.read()\n",
      "    \n",
      "HTML(styles)\n",
      "\n",
      "# name of file\n",
      "name = 'NECOFS_water_levels'\n",
      "\n",
      "html = \"\"\"\n",
      "<small>\n",
      "<p> This post was written as an IPython notebook. It is available for <a href=\"http://rsignell-usgs.github.io/blog/downloads/notebooks/%s.ipynb\">download</a> or as a static <a href=\"http://\n",
      "nbviewer.ipython.org/url/rsignell-usgs.github.com/blog/downloads/notebooks/%s.ipynb\">html</a>.</p>\n",
      "<p></p>\n",
      "%s \"\"\" % (name, name, html)"
     ],
     "language": "python",
     "metadata": {},
     "outputs": [],
     "prompt_number": 1
    },
    {
     "cell_type": "heading",
     "level": 1,
     "metadata": {},
     "source": [
      "Extract NECOFS water levels using NetCDF4-Python and analyze/visualize with Pandas"
     ]
    },
    {
     "cell_type": "markdown",
     "metadata": {},
     "source": [
      "Demonstration using the NetCDF4-Python library to extract time-series of sea surface height from a triangular grid ocean model (FVCOM) via OPeNDAP, specifying the desired URL, time range, and lat/lon locations of interest.  \n",
      "\n",
      "NECOFS (Northeastern Coastal Ocean Forecast System) is run by groups at the University of Massachusetts Dartmouth and the Woods Hole Oceanographic Institution, led by Drs. C. Chen, R. C. Beardsley, G. Cowles and B. Rothschild. Funding is provided to run the model by the NOAA-led Integrated Ocean Observing System and the State of Massachusetts.\n",
      "\n",
      "NECOFS is a coupled numerical model that uses nested weather models, a coastal ocean circulation model, and a wave model. The ocean model is a volume-mesh model with horizontal resolution that is finer in complicated regions. It is layered (not depth-averaged) and includes the effects of tides, winds, and varying water densities caused by temperature and salinity changes.\n",
      "\n",
      "* Model description: http://fvcom.smast.umassd.edu/research_projects/NECOFS/model_system.html\n",
      "* THREDDS server with other forecast and archive products: http://www.smast.umassd.edu:8080/thredds/catalog.html"
     ]
    },
    {
     "cell_type": "code",
     "collapsed": false,
     "input": [
      "# Plot forecast water levels from NECOFS model from list of lon,lat locations\n",
      "# (uses the nearest point, no interpolation)\n",
      "from pylab import *\n",
      "import netCDF4\n",
      "import datetime as dt\n",
      "import pandas as pd\n",
      "from StringIO import StringIO"
     ],
     "language": "python",
     "metadata": {},
     "outputs": [],
     "prompt_number": 2
    },
    {
     "cell_type": "markdown",
     "metadata": {},
     "source": [
      "In the cells below, specify a NECOFS dataset to extract data from.   Massbay is most detailed for Massachusetts \n",
      "waters, GOM3 extends over entire Gulf of Maine (and more).  There are forecasts runs, \n",
      "archived forecasts runs, and hindcast simulations available.  Move the cell\n",
      "you are interested in to the bottom of the list, so it's executed last (thus\n",
      "overwriting the other URLs).  Poor man coding!"
     ]
    },
    {
     "cell_type": "code",
     "collapsed": false,
     "input": [
      "# FVCOM GOM3v11 NECOFS Forecast Archive (Apr 01,2010-Nov 10,2011)\n",
      "model='GOM3'\n",
      "url='http://www.smast.umassd.edu:8080/thredds/dodsC/fvcom/archives/necofs_gom3v11'"
     ],
     "language": "python",
     "metadata": {},
     "outputs": [],
     "prompt_number": 3
    },
    {
     "cell_type": "code",
     "collapsed": false,
     "input": [
      "# FVCOM GOM3v13 NECOFS Forecast Archive (May 09,2013-Jul 31,2013)\n",
      "model='GOM3'\n",
      "url='http://www.smast.umassd.edu:8080/thredds/dodsC/fvcom/archives/necofs_gom3v13'"
     ],
     "language": "python",
     "metadata": {},
     "outputs": [],
     "prompt_number": 4
    },
    {
     "cell_type": "code",
     "collapsed": false,
     "input": [
      "# FVCOM GOM3v12 NECOFS Forecast Archive (Nov 11,2011-May 08,2013)\n",
      "model='GOM3'\n",
      "url='http://www.smast.umassd.edu:8080/thredds/dodsC/fvcom/archives/necofs_gom3v12'"
     ],
     "language": "python",
     "metadata": {},
     "outputs": [],
     "prompt_number": 5
    },
    {
     "cell_type": "code",
     "collapsed": false,
     "input": [
      "#NECOFS GOM3 grid forecast\n",
      "model='GOM3'\n",
      "url='http://www.smast.umassd.edu:8080/thredds/dodsC/FVCOM/NECOFS/Forecasts/NECOFS_GOM3_FORECAST.nc'"
     ],
     "language": "python",
     "metadata": {},
     "outputs": [],
     "prompt_number": 6
    },
    {
     "cell_type": "code",
     "collapsed": false,
     "input": [
      "#NECOFS MassBay grid forecast\n",
      "model='Massbay'\n",
      "url='http://www.smast.umassd.edu:8080/thredds/dodsC/FVCOM/NECOFS/Forecasts/NECOFS_FVCOM_OCEAN_MASSBAY_FORECAST.nc'"
     ],
     "language": "python",
     "metadata": {},
     "outputs": [],
     "prompt_number": 7
    },
    {
     "cell_type": "markdown",
     "metadata": {},
     "source": [
      "Specify a list of stations where you want forecast data.\n",
      "    Just move the cell with the `x= ` you want so that it gets executed last."
     ]
    },
    {
     "cell_type": "code",
     "collapsed": false,
     "input": [
      "def dms2dd(d,m,s):\n",
      "    return d+(m+s/60.)/60.\n",
      "  "
     ],
     "language": "python",
     "metadata": {},
     "outputs": [],
     "prompt_number": 8
    },
    {
     "cell_type": "code",
     "collapsed": false,
     "input": [
      "dms2dd(41,33,15.7)"
     ],
     "language": "python",
     "metadata": {},
     "outputs": [
      {
       "output_type": "pyout",
       "prompt_number": 9,
       "text": [
        "41.55436111111111"
       ]
      }
     ],
     "prompt_number": 9
    },
    {
     "cell_type": "code",
     "collapsed": false,
     "input": [
      "-dms2dd(70,30,20.2)"
     ],
     "language": "python",
     "metadata": {},
     "outputs": [
      {
       "output_type": "pyout",
       "prompt_number": 10,
       "text": [
        "-70.50561111111111"
       ]
      }
     ],
     "prompt_number": 10
    },
    {
     "cell_type": "code",
     "collapsed": false,
     "input": [
      "x = '''\n",
      "Station, Lat, Lon\n",
      "Falmouth Harbor,    41.541575, -70.608020\n",
      "Sage Lot Pond, 41.554361, -70.505611\n",
      "'''"
     ],
     "language": "python",
     "metadata": {},
     "outputs": [],
     "prompt_number": 11
    },
    {
     "cell_type": "code",
     "collapsed": false,
     "input": [
      "x = '''\n",
      "Station, Lat, Lon\n",
      "Boston,             42.368186, -71.047984\n",
      "Carolyn Seep Spot,    39.8083, -69.5917\n",
      "Falmouth Harbor,  41.541575, -70.608020\n",
      "'''"
     ],
     "language": "python",
     "metadata": {},
     "outputs": [],
     "prompt_number": 12
    },
    {
     "cell_type": "code",
     "collapsed": false,
     "input": [
      "# Enter desired (Station, Lat, Lon) values here:\n",
      "x = '''\n",
      "Station, Lat, Lon\n",
      "Boston,             42.368186, -71.047984\n",
      "Scituate Harbor,    42.199447, -70.720090\n",
      "Scituate Beach,     42.209973, -70.724523\n",
      "Falmouth Harbor,    41.541575, -70.608020\n",
      "Marion,             41.689008, -70.746576\n",
      "Marshfield,         42.108480, -70.648691\n",
      "Provincetown,       42.042745, -70.171180\n",
      "Sandwich,           41.767990, -70.466219\n",
      "Hampton Bay,        42.900103, -70.818510\n",
      "Gloucester,         42.610253, -70.660570\n",
      "'''"
     ],
     "language": "python",
     "metadata": {},
     "outputs": [],
     "prompt_number": 13
    },
    {
     "cell_type": "code",
     "collapsed": false,
     "input": [
      "# Create a Pandas DataFrame\n",
      "obs=pd.read_csv(StringIO(x.strip()), sep=\",\\s*\",index_col='Station')"
     ],
     "language": "python",
     "metadata": {},
     "outputs": [],
     "prompt_number": 14
    },
    {
     "cell_type": "code",
     "collapsed": false,
     "input": [
      "obs"
     ],
     "language": "python",
     "metadata": {},
     "outputs": [
      {
       "html": [
        "<div style=\"max-height:1000px;max-width:1500px;overflow:auto;\">\n",
        "<table border=\"1\" class=\"dataframe\">\n",
        "  <thead>\n",
        "    <tr style=\"text-align: right;\">\n",
        "      <th></th>\n",
        "      <th>Lat</th>\n",
        "      <th>Lon</th>\n",
        "    </tr>\n",
        "    <tr>\n",
        "      <th>Station</th>\n",
        "      <th></th>\n",
        "      <th></th>\n",
        "    </tr>\n",
        "  </thead>\n",
        "  <tbody>\n",
        "    <tr>\n",
        "      <th>Boston</th>\n",
        "      <td> 42.368186</td>\n",
        "      <td>-71.047984</td>\n",
        "    </tr>\n",
        "    <tr>\n",
        "      <th>Scituate Harbor</th>\n",
        "      <td> 42.199447</td>\n",
        "      <td>-70.720090</td>\n",
        "    </tr>\n",
        "    <tr>\n",
        "      <th>Scituate Beach</th>\n",
        "      <td> 42.209973</td>\n",
        "      <td>-70.724523</td>\n",
        "    </tr>\n",
        "    <tr>\n",
        "      <th>Falmouth Harbor</th>\n",
        "      <td> 41.541575</td>\n",
        "      <td>-70.608020</td>\n",
        "    </tr>\n",
        "    <tr>\n",
        "      <th>Marion</th>\n",
        "      <td> 41.689008</td>\n",
        "      <td>-70.746576</td>\n",
        "    </tr>\n",
        "    <tr>\n",
        "      <th>Marshfield</th>\n",
        "      <td> 42.108480</td>\n",
        "      <td>-70.648691</td>\n",
        "    </tr>\n",
        "    <tr>\n",
        "      <th>Provincetown</th>\n",
        "      <td> 42.042745</td>\n",
        "      <td>-70.171180</td>\n",
        "    </tr>\n",
        "    <tr>\n",
        "      <th>Sandwich</th>\n",
        "      <td> 41.767990</td>\n",
        "      <td>-70.466219</td>\n",
        "    </tr>\n",
        "    <tr>\n",
        "      <th>Hampton Bay</th>\n",
        "      <td> 42.900103</td>\n",
        "      <td>-70.818510</td>\n",
        "    </tr>\n",
        "    <tr>\n",
        "      <th>Gloucester</th>\n",
        "      <td> 42.610253</td>\n",
        "      <td>-70.660570</td>\n",
        "    </tr>\n",
        "  </tbody>\n",
        "</table>\n",
        "</div>"
       ],
       "output_type": "pyout",
       "prompt_number": 15,
       "text": [
        "                       Lat        Lon\n",
        "Station                              \n",
        "Boston           42.368186 -71.047984\n",
        "Scituate Harbor  42.199447 -70.720090\n",
        "Scituate Beach   42.209973 -70.724523\n",
        "Falmouth Harbor  41.541575 -70.608020\n",
        "Marion           41.689008 -70.746576\n",
        "Marshfield       42.108480 -70.648691\n",
        "Provincetown     42.042745 -70.171180\n",
        "Sandwich         41.767990 -70.466219\n",
        "Hampton Bay      42.900103 -70.818510\n",
        "Gloucester       42.610253 -70.660570"
       ]
      }
     ],
     "prompt_number": 15
    },
    {
     "cell_type": "code",
     "collapsed": false,
     "input": [
      "# find the indices of the points in (x,y) closest to the points in (xi,yi)\n",
      "def nearxy(x,y,xi,yi):\n",
      "    ind=ones(len(xi),dtype=int)\n",
      "    for i in arange(len(xi)):\n",
      "        dist=sqrt((x-xi[i])**2+(y-yi[i])**2)\n",
      "        ind[i]=dist.argmin()\n",
      "    return ind"
     ],
     "language": "python",
     "metadata": {},
     "outputs": [],
     "prompt_number": 16
    },
    {
     "cell_type": "code",
     "collapsed": false,
     "input": [
      "# open NECOFS remote OPeNDAP dataset \n",
      "nc=netCDF4.Dataset(url).variables"
     ],
     "language": "python",
     "metadata": {},
     "outputs": [],
     "prompt_number": 17
    },
    {
     "cell_type": "code",
     "collapsed": false,
     "input": [
      "# find closest NECOFS nodes to station locations\n",
      "obs['0-Based Index'] = nearxy(nc['lon'][:],nc['lat'][:],obs['Lon'],obs['Lat'])\n",
      "obs"
     ],
     "language": "python",
     "metadata": {},
     "outputs": [
      {
       "html": [
        "<div style=\"max-height:1000px;max-width:1500px;overflow:auto;\">\n",
        "<table border=\"1\" class=\"dataframe\">\n",
        "  <thead>\n",
        "    <tr style=\"text-align: right;\">\n",
        "      <th></th>\n",
        "      <th>Lat</th>\n",
        "      <th>Lon</th>\n",
        "      <th>0-Based Index</th>\n",
        "    </tr>\n",
        "    <tr>\n",
        "      <th>Station</th>\n",
        "      <th></th>\n",
        "      <th></th>\n",
        "      <th></th>\n",
        "    </tr>\n",
        "  </thead>\n",
        "  <tbody>\n",
        "    <tr>\n",
        "      <th>Boston</th>\n",
        "      <td> 42.368186</td>\n",
        "      <td>-71.047984</td>\n",
        "      <td> 90913</td>\n",
        "    </tr>\n",
        "    <tr>\n",
        "      <th>Scituate Harbor</th>\n",
        "      <td> 42.199447</td>\n",
        "      <td>-70.720090</td>\n",
        "      <td> 37964</td>\n",
        "    </tr>\n",
        "    <tr>\n",
        "      <th>Scituate Beach</th>\n",
        "      <td> 42.209973</td>\n",
        "      <td>-70.724523</td>\n",
        "      <td> 28474</td>\n",
        "    </tr>\n",
        "    <tr>\n",
        "      <th>Falmouth Harbor</th>\n",
        "      <td> 41.541575</td>\n",
        "      <td>-70.608020</td>\n",
        "      <td> 47470</td>\n",
        "    </tr>\n",
        "    <tr>\n",
        "      <th>Marion</th>\n",
        "      <td> 41.689008</td>\n",
        "      <td>-70.746576</td>\n",
        "      <td> 49654</td>\n",
        "    </tr>\n",
        "    <tr>\n",
        "      <th>Marshfield</th>\n",
        "      <td> 42.108480</td>\n",
        "      <td>-70.648691</td>\n",
        "      <td> 24272</td>\n",
        "    </tr>\n",
        "    <tr>\n",
        "      <th>Provincetown</th>\n",
        "      <td> 42.042745</td>\n",
        "      <td>-70.171180</td>\n",
        "      <td> 26595</td>\n",
        "    </tr>\n",
        "    <tr>\n",
        "      <th>Sandwich</th>\n",
        "      <td> 41.767990</td>\n",
        "      <td>-70.466219</td>\n",
        "      <td> 38036</td>\n",
        "    </tr>\n",
        "    <tr>\n",
        "      <th>Hampton Bay</th>\n",
        "      <td> 42.900103</td>\n",
        "      <td>-70.818510</td>\n",
        "      <td> 13022</td>\n",
        "    </tr>\n",
        "    <tr>\n",
        "      <th>Gloucester</th>\n",
        "      <td> 42.610253</td>\n",
        "      <td>-70.660570</td>\n",
        "      <td> 22082</td>\n",
        "    </tr>\n",
        "  </tbody>\n",
        "</table>\n",
        "</div>"
       ],
       "output_type": "pyout",
       "prompt_number": 18,
       "text": [
        "                       Lat        Lon  0-Based Index\n",
        "Station                                             \n",
        "Boston           42.368186 -71.047984          90913\n",
        "Scituate Harbor  42.199447 -70.720090          37964\n",
        "Scituate Beach   42.209973 -70.724523          28474\n",
        "Falmouth Harbor  41.541575 -70.608020          47470\n",
        "Marion           41.689008 -70.746576          49654\n",
        "Marshfield       42.108480 -70.648691          24272\n",
        "Provincetown     42.042745 -70.171180          26595\n",
        "Sandwich         41.767990 -70.466219          38036\n",
        "Hampton Bay      42.900103 -70.818510          13022\n",
        "Gloucester       42.610253 -70.660570          22082"
       ]
      }
     ],
     "prompt_number": 18
    },
    {
     "cell_type": "markdown",
     "metadata": {},
     "source": [
      "Specify the range of dates you want to extract, either all time steps, a specified number of days around the \n",
      "current date or for a specific period in the past (for archive datasets)"
     ]
    },
    {
     "cell_type": "code",
     "collapsed": false,
     "input": [
      "# get time values and convert to datetime objects\n",
      "time_var = nc['time']\n",
      "\n",
      "# all time steps\n",
      "istart = 0\n",
      "istop = len(time_var)-1"
     ],
     "language": "python",
     "metadata": {},
     "outputs": [],
     "prompt_number": 19
    },
    {
     "cell_type": "code",
     "collapsed": false,
     "input": [
      "# Use specific times (UTC) ...\n",
      "start = dt.datetime(2012,2,16,0,0,0)\n",
      "istart = netCDF4.date2index(start,time_var,select='nearest')\n",
      "stop = dt.datetime(2012,2,18,0,0,0)\n",
      "istop = netCDF4.date2index(stop,time_var,select='nearest')"
     ],
     "language": "python",
     "metadata": {},
     "outputs": [],
     "prompt_number": 20
    },
    {
     "cell_type": "code",
     "collapsed": false,
     "input": [
      "# Use times near \"NOW\" ...\n",
      "start = dt.datetime.utcnow() - dt.timedelta(days=1)\n",
      "istart = netCDF4.date2index(start,time_var,select='nearest')\n",
      "stop = dt.datetime.utcnow() + dt.timedelta(days=3)\n",
      "istop = netCDF4.date2index(stop,time_var,select='nearest')"
     ],
     "language": "python",
     "metadata": {},
     "outputs": [],
     "prompt_number": 21
    },
    {
     "cell_type": "code",
     "collapsed": false,
     "input": [
      "print 'istart,istop=',istart,istop"
     ],
     "language": "python",
     "metadata": {},
     "outputs": [
      {
       "output_type": "stream",
       "stream": "stdout",
       "text": [
        "istart,istop= 85 144\n"
       ]
      }
     ],
     "prompt_number": 22
    },
    {
     "cell_type": "code",
     "collapsed": false,
     "input": [
      "# get all time steps of water level from each station\n",
      "nsta=len(obs)\n",
      "ii=range(istart,istop)\n",
      "z=ones((len(ii),nsta))\n",
      "for i in range(nsta):\n",
      "    z[:,i] = nc['zeta'][ii,obs['0-Based Index'][i]]\n",
      "    "
     ],
     "language": "python",
     "metadata": {},
     "outputs": [],
     "prompt_number": 23
    },
    {
     "cell_type": "code",
     "collapsed": false,
     "input": [
      "jd = netCDF4.num2date(time_var[ii],time_var.units)"
     ],
     "language": "python",
     "metadata": {},
     "outputs": [],
     "prompt_number": 24
    },
    {
     "cell_type": "code",
     "collapsed": false,
     "input": [
      "# make a DataFrame out of the interpolated time series at each location\n",
      "zvals=pd.DataFrame(z,index=jd,columns=obs.index)"
     ],
     "language": "python",
     "metadata": {},
     "outputs": [],
     "prompt_number": 25
    },
    {
     "cell_type": "code",
     "collapsed": false,
     "input": [
      "# list out a few values\n",
      "zvals.head()"
     ],
     "language": "python",
     "metadata": {},
     "outputs": [
      {
       "html": [
        "<div style=\"max-height:1000px;max-width:1500px;overflow:auto;\">\n",
        "<table border=\"1\" class=\"dataframe\">\n",
        "  <thead>\n",
        "    <tr style=\"text-align: right;\">\n",
        "      <th>Station</th>\n",
        "      <th>Boston</th>\n",
        "      <th>Scituate Harbor</th>\n",
        "      <th>Scituate Beach</th>\n",
        "      <th>Falmouth Harbor</th>\n",
        "      <th>Marion</th>\n",
        "      <th>Marshfield</th>\n",
        "      <th>Provincetown</th>\n",
        "      <th>Sandwich</th>\n",
        "      <th>Hampton Bay</th>\n",
        "      <th>Gloucester</th>\n",
        "    </tr>\n",
        "  </thead>\n",
        "  <tbody>\n",
        "    <tr>\n",
        "      <th>2014-02-03 13:01:53</th>\n",
        "      <td>-1.548685</td>\n",
        "      <td> 0.486000</td>\n",
        "      <td>-0.640000</td>\n",
        "      <td> 0.050240</td>\n",
        "      <td> 0.341351</td>\n",
        "      <td>-1.300522</td>\n",
        "      <td>-1.359574</td>\n",
        "      <td>-1.372528</td>\n",
        "      <td>-0.289000</td>\n",
        "      <td>-1.287029</td>\n",
        "    </tr>\n",
        "    <tr>\n",
        "      <th>2014-02-03 13:58:08</th>\n",
        "      <td>-0.804319</td>\n",
        "      <td> 0.486000</td>\n",
        "      <td>-0.640000</td>\n",
        "      <td> 0.311570</td>\n",
        "      <td> 0.902277</td>\n",
        "      <td>-0.764226</td>\n",
        "      <td>-0.890149</td>\n",
        "      <td>-0.852898</td>\n",
        "      <td>-0.289000</td>\n",
        "      <td>-0.710075</td>\n",
        "    </tr>\n",
        "    <tr>\n",
        "      <th>2014-02-03 15:00:00</th>\n",
        "      <td>-0.128420</td>\n",
        "      <td> 0.486000</td>\n",
        "      <td>-0.043429</td>\n",
        "      <td> 0.533869</td>\n",
        "      <td> 1.233727</td>\n",
        "      <td>-0.036886</td>\n",
        "      <td>-0.082767</td>\n",
        "      <td>-0.008128</td>\n",
        "      <td>-0.060291</td>\n",
        "      <td>-0.025076</td>\n",
        "    </tr>\n",
        "    <tr>\n",
        "      <th>2014-02-03 16:01:53</th>\n",
        "      <td> 0.659285</td>\n",
        "      <td> 0.748702</td>\n",
        "      <td> 0.791304</td>\n",
        "      <td> 0.548589</td>\n",
        "      <td> 1.119893</td>\n",
        "      <td> 0.758620</td>\n",
        "      <td> 0.665184</td>\n",
        "      <td> 0.720584</td>\n",
        "      <td> 0.792306</td>\n",
        "      <td> 0.827408</td>\n",
        "    </tr>\n",
        "    <tr>\n",
        "      <th>2014-02-03 16:58:08</th>\n",
        "      <td> 1.568771</td>\n",
        "      <td> 1.455214</td>\n",
        "      <td> 1.462268</td>\n",
        "      <td> 0.476323</td>\n",
        "      <td> 0.730958</td>\n",
        "      <td> 1.449316</td>\n",
        "      <td> 1.387045</td>\n",
        "      <td> 1.440940</td>\n",
        "      <td> 1.415007</td>\n",
        "      <td> 1.476997</td>\n",
        "    </tr>\n",
        "  </tbody>\n",
        "</table>\n",
        "</div>"
       ],
       "output_type": "pyout",
       "prompt_number": 26,
       "text": [
        "Station                Boston  Scituate Harbor  Scituate Beach  \\\n",
        "2014-02-03 13:01:53 -1.548685         0.486000       -0.640000   \n",
        "2014-02-03 13:58:08 -0.804319         0.486000       -0.640000   \n",
        "2014-02-03 15:00:00 -0.128420         0.486000       -0.043429   \n",
        "2014-02-03 16:01:53  0.659285         0.748702        0.791304   \n",
        "2014-02-03 16:58:08  1.568771         1.455214        1.462268   \n",
        "\n",
        "Station              Falmouth Harbor    Marion  Marshfield  Provincetown  \\\n",
        "2014-02-03 13:01:53         0.050240  0.341351   -1.300522     -1.359574   \n",
        "2014-02-03 13:58:08         0.311570  0.902277   -0.764226     -0.890149   \n",
        "2014-02-03 15:00:00         0.533869  1.233727   -0.036886     -0.082767   \n",
        "2014-02-03 16:01:53         0.548589  1.119893    0.758620      0.665184   \n",
        "2014-02-03 16:58:08         0.476323  0.730958    1.449316      1.387045   \n",
        "\n",
        "Station              Sandwich  Hampton Bay  Gloucester  \n",
        "2014-02-03 13:01:53 -1.372528    -0.289000   -1.287029  \n",
        "2014-02-03 13:58:08 -0.852898    -0.289000   -0.710075  \n",
        "2014-02-03 15:00:00 -0.008128    -0.060291   -0.025076  \n",
        "2014-02-03 16:01:53  0.720584     0.792306    0.827408  \n",
        "2014-02-03 16:58:08  1.440940     1.415007    1.476997  "
       ]
      }
     ],
     "prompt_number": 26
    },
    {
     "cell_type": "code",
     "collapsed": false,
     "input": [
      "# plotting at DataFrame is easy!\n",
      "ax=zvals.plot(figsize=(16,4),grid=True,title=('NECOFS Forecast Water Level from %s Forecast' % model),legend=False);\n",
      "\n",
      "# but of course we aren't exactly satisfied with the default plot, so...\n",
      "# Specify exactly the way we want the dates labeled\n",
      "xax = ax.get_xaxis()\n",
      "xax.set_major_locator(DayLocator())\n",
      "xax.set_major_formatter(DateFormatter('%b %d'))\n",
      "\n",
      "xax.set_minor_locator(HourLocator(byhour=range(0,24,3)))\n",
      "xax.set_minor_formatter(DateFormatter('%H'))# read units from dataset for ylabel\n",
      "xax.set_tick_params(which='major', pad=15)\n",
      "xax.grid(b=True,which='minor')\n",
      "setp(gca().get_xticklabels(), rotation=0, horizontalalignment='center')\n",
      "ylabel(nc['zeta'].units)\n",
      "# plot the legend outside the axis frame\n",
      "box = ax.get_position()\n",
      "ax.set_position([box.x0, box.y0, box.width * 0.8, box.height])\n",
      "ax.legend(loc='center left', bbox_to_anchor=(1, 0.5));\n"
     ],
     "language": "python",
     "metadata": {},
     "outputs": [
      {
       "output_type": "display_data",
       "png": "[encoded data removed]",
       "text": [
        "<matplotlib.figure.Figure at 0x30135d0>"
       ]
      }
     ],
     "prompt_number": 27
    },
    {
     "cell_type": "code",
     "collapsed": false,
     "input": [
      "# make a new DataFrame of maximum water levels at all stations\n",
      "b=pd.DataFrame(zvals.idxmax(),columns=['time of max water level (UTC)'])\n",
      "# create heading for new column containing max water level\n",
      "zmax_heading='zmax (%s)' % nc['zeta'].units\n",
      "# Add new column to DataFrame\n",
      "b[zmax_heading]=zvals.max()"
     ],
     "language": "python",
     "metadata": {},
     "outputs": [],
     "prompt_number": 28
    },
    {
     "cell_type": "code",
     "collapsed": false,
     "input": [
      "b"
     ],
     "language": "python",
     "metadata": {},
     "outputs": [
      {
       "html": [
        "<div style=\"max-height:1000px;max-width:1500px;overflow:auto;\">\n",
        "<table border=\"1\" class=\"dataframe\">\n",
        "  <thead>\n",
        "    <tr style=\"text-align: right;\">\n",
        "      <th></th>\n",
        "      <th>time of max water level (UTC)</th>\n",
        "      <th>zmax (meters)</th>\n",
        "    </tr>\n",
        "    <tr>\n",
        "      <th>Station</th>\n",
        "      <th></th>\n",
        "      <th></th>\n",
        "    </tr>\n",
        "  </thead>\n",
        "  <tbody>\n",
        "    <tr>\n",
        "      <th>Boston</th>\n",
        "      <td>2014-02-04 07:01:53</td>\n",
        "      <td> 2.118573</td>\n",
        "    </tr>\n",
        "    <tr>\n",
        "      <th>Scituate Harbor</th>\n",
        "      <td>2014-02-04 07:01:53</td>\n",
        "      <td> 2.013487</td>\n",
        "    </tr>\n",
        "    <tr>\n",
        "      <th>Scituate Beach</th>\n",
        "      <td>2014-02-04 07:01:53</td>\n",
        "      <td> 2.015532</td>\n",
        "    </tr>\n",
        "    <tr>\n",
        "      <th>Falmouth Harbor</th>\n",
        "      <td>2014-02-04 04:58:08</td>\n",
        "      <td> 0.595833</td>\n",
        "    </tr>\n",
        "    <tr>\n",
        "      <th>Marion</th>\n",
        "      <td>2014-02-04 04:01:53</td>\n",
        "      <td> 1.235376</td>\n",
        "    </tr>\n",
        "    <tr>\n",
        "      <th>Marshfield</th>\n",
        "      <td>2014-02-04 07:01:53</td>\n",
        "      <td> 2.022758</td>\n",
        "    </tr>\n",
        "    <tr>\n",
        "      <th>Provincetown</th>\n",
        "      <td>2014-02-04 07:01:53</td>\n",
        "      <td> 2.066864</td>\n",
        "    </tr>\n",
        "    <tr>\n",
        "      <th>Sandwich</th>\n",
        "      <td>2014-02-04 07:01:53</td>\n",
        "      <td> 2.114579</td>\n",
        "    </tr>\n",
        "    <tr>\n",
        "      <th>Hampton Bay</th>\n",
        "      <td>2014-02-04 07:01:53</td>\n",
        "      <td> 1.962028</td>\n",
        "    </tr>\n",
        "    <tr>\n",
        "      <th>Gloucester</th>\n",
        "      <td>2014-02-04 07:01:53</td>\n",
        "      <td> 1.957828</td>\n",
        "    </tr>\n",
        "  </tbody>\n",
        "</table>\n",
        "</div>"
       ],
       "output_type": "pyout",
       "prompt_number": 29,
       "text": [
        "                time of max water level (UTC)  zmax (meters)\n",
        "Station                                                     \n",
        "Boston                    2014-02-04 07:01:53       2.118573\n",
        "Scituate Harbor           2014-02-04 07:01:53       2.013487\n",
        "Scituate Beach            2014-02-04 07:01:53       2.015532\n",
        "Falmouth Harbor           2014-02-04 04:58:08       0.595833\n",
        "Marion                    2014-02-04 04:01:53       1.235376\n",
        "Marshfield                2014-02-04 07:01:53       2.022758\n",
        "Provincetown              2014-02-04 07:01:53       2.066864\n",
        "Sandwich                  2014-02-04 07:01:53       2.114579\n",
        "Hampton Bay               2014-02-04 07:01:53       1.962028\n",
        "Gloucester                2014-02-04 07:01:53       1.957828"
       ]
      }
     ],
     "prompt_number": 29
    },
    {
     "cell_type": "code",
     "collapsed": false,
     "input": [
      "HTML(html)"
     ],
     "language": "python",
     "metadata": {},
     "outputs": [
      {
       "html": [
        "\n",
        "<small>\n",
        "<p> This post was written as an IPython notebook. It is available for <a href=\"http://rsignell-usgs.github.io/blog/downloads/notebooks/NECOFS_water_levels.ipynb\">download</a> or as a static <a href=\"http://\n",
        "nbviewer.ipython.org/url/rsignell-usgs.github.com/blog/downloads/notebooks/NECOFS_water_levels.ipynb\">html</a>.</p>\n",
        "<p></p>\n",
        "<a rel=\"license\" href=\"http://creativecommons.org/licenses/by-sa/4.0/\"><img\n",
        "alt=\"Creative Commons License\" style=\"border-width:0\"\n",
        "src=\"http://i.creativecommons.org/l/by-sa/4.0/88x31.png\" /></a> "
       ],
       "output_type": "pyout",
       "prompt_number": 30,
       "text": [
        "<IPython.core.display.HTML at 0x3a93e10>"
       ]
      }
     ],
     "prompt_number": 30
    }
   ],
   "metadata": {}
  }
 ]
}