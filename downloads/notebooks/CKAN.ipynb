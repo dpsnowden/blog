{
 "metadata": {
  "name": "CKAN"
 },
 "nbformat": 3,
 "nbformat_minor": 0,
 "worksheets": [
  {
   "cells": [
    {
     "cell_type": "code",
     "collapsed": false,
     "input": [
      "from IPython.core.display import HTML\n",
      "\n",
      "with open('creative_commons.txt', 'r') as f:\n",
      "    html = f.read()\n",
      "    \n",
      "with open('./styles/custom.css', 'r') as f:\n",
      "    styles = f.read()\n",
      "    \n",
      "HTML(styles)\n",
      "\n",
      "# name of file\n",
      "name = 'CKAN'\n",
      "\n",
      "html = \"\"\"\n",
      "<small>\n",
      "<p> This post was written as an IPython notebook. It is available for <a href=\"http://rsignell-usgs.github.io/blog/downloads/notebooks/%s.ipynb\">download</a> or as a static <a href=\"http://\n",
      "nbviewer.ipython.org/url/rsignell-usgs.github.com/blog/downloads/notebooks/%s.ipynb\">html</a>.</p>\n",
      "<p></p>\n",
      "%s \"\"\" % (name, name, html)"
     ],
     "language": "python",
     "metadata": {},
     "outputs": [],
     "prompt_number": 1
    },
    {
     "cell_type": "markdown",
     "metadata": {},
     "source": [
      "# Testing data.gov using the CKAN API"
     ]
    },
    {
     "cell_type": "markdown",
     "metadata": {},
     "source": [
      "We want to find all Data.gov datasets that match a specific type of data (e.g. `sea_water_temperature`), in a specified geospatial extent and time window, and that have a specific type of data endpoint (e.g. OPeNDAP).  Since data.gov uses CKAN, while waiting for a CSW interface, here we try using the CKAN API with the `requests` package and with the `ckanclient` package."
     ]
    },
    {
     "cell_type": "code",
     "collapsed": false,
     "input": [
      "import requests\n",
      "import json\n",
      "from pprint import pprint"
     ],
     "language": "python",
     "metadata": {},
     "outputs": [],
     "prompt_number": 2
    },
    {
     "cell_type": "markdown",
     "metadata": {},
     "source": [
      "Let's try doing a request first with the `requests` package"
     ]
    },
    {
     "cell_type": "code",
     "collapsed": false,
     "input": [
      "f = requests.get(\"http://catalog.data.gov/api/3/search/dataset?q=%22sea_water_temperature%22\").json()\n",
      "print f.keys()\n",
      "print f['count']\n",
      "pprint(f['results'][0:5])"
     ],
     "language": "python",
     "metadata": {},
     "outputs": [
      {
       "output_type": "stream",
       "stream": "stdout",
       "text": [
        "[u'count', u'results']\n",
        "52\n",
        "[u'physical-and-meteorological-data-from-the-tropical-atmosphere-ocean-tao-array-in-the-tropical-p2faf2',\n",
        " u'physical-and-meteorological-data-from-the-tropical-atmosphere-ocean-tao-array-in-the-tropical-p43e69',\n",
        " u'physical-and-meteorological-data-from-the-tropical-atmosphere-ocean-tao-array-in-the-tropical-p44495',\n",
        " u'physical-and-meteorological-data-from-the-tropical-atmosphere-ocean-tao-array-in-the-tropical-p5d444',\n",
        " u'physical-and-meteorological-data-from-the-tropical-atmosphere-ocean-tao-array-in-the-tropical-p652ed']\n"
       ]
      }
     ],
     "prompt_number": 3
    },
    {
     "cell_type": "markdown",
     "metadata": {},
     "source": [
      "Now let's try the ckanclient"
     ]
    },
    {
     "cell_type": "code",
     "collapsed": false,
     "input": [
      "import ckanclient"
     ],
     "language": "python",
     "metadata": {},
     "outputs": [],
     "prompt_number": 4
    },
    {
     "cell_type": "code",
     "collapsed": false,
     "input": [
      "ckan = ckanclient.CkanClient('http://catalog.data.gov/api/3')"
     ],
     "language": "python",
     "metadata": {},
     "outputs": [],
     "prompt_number": 5
    },
    {
     "cell_type": "markdown",
     "metadata": {},
     "source": [
      "Try the same simple search we did with `requests` above"
     ]
    },
    {
     "cell_type": "code",
     "collapsed": false,
     "input": [
      "search_params = { 'q': 'tags:\"sea_water_temperature\" '}                                                                                            \n",
      "d = ckan.action('package_search', **search_params) \n",
      "print d['count']"
     ],
     "language": "python",
     "metadata": {},
     "outputs": [
      {
       "output_type": "stream",
       "stream": "stdout",
       "text": [
        "51\n"
       ]
      }
     ],
     "prompt_number": 6
    },
    {
     "cell_type": "markdown",
     "metadata": {},
     "source": [
      "Hmm... Interesting.  With `ckanclient` we got 51 results back, where with `requests`, we got 52.  Could be a 0- vs 1 based index thing? <br>\n",
      "Now let's try a more complex search, asking for only 3 results back.  Below we ask for `res_format:PDF`, but what are the other possible `res_format` values we can query on?\n"
     ]
    },
    {
     "cell_type": "code",
     "collapsed": false,
     "input": [
      "search_params = {                                                                                      \n",
      "    'q': 'tags:\"sea_water_temperature\" AND metadata_modified:[2012-06-01T00:00:00.000Z TO NOW]',       \n",
      "    'fq': 'res_format:PDF',                                                                            \n",
      "    'extras': {\"ext_bbox\":\"-121,45,-120,46\"},                                                          \n",
      "    'rows': 3                                                                                       \n",
      "}\n",
      "d = ckan.action('package_search', **search_params) \n",
      "print d['count']"
     ],
     "language": "python",
     "metadata": {},
     "outputs": [
      {
       "output_type": "stream",
       "stream": "stdout",
       "text": [
        "7\n"
       ]
      }
     ],
     "prompt_number": 7
    },
    {
     "cell_type": "code",
     "collapsed": false,
     "input": [
      "search_params = {                                                                                      \n",
      "    'q': 'tags:\"temperature\"',                                                                                    'fq': 'res_format:PDF',                                                                            \n",
      "    'extras': {\"ext_bbox\":\"-125,38,-124,39\"},   \n",
      "    'rows': 10                                                                                       \n",
      "}\n",
      "      \n",
      "d = ckan.action('package_search', **search_params) \n",
      "print d['count']"
     ],
     "language": "python",
     "metadata": {},
     "outputs": [
      {
       "output_type": "stream",
       "stream": "stdout",
       "text": [
        "10\n"
       ]
      }
     ],
     "prompt_number": 8
    },
    {
     "cell_type": "markdown",
     "metadata": {},
     "source": [
      "So what does one of these results look like? Let's take a look at the keys"
     ]
    },
    {
     "cell_type": "code",
     "collapsed": false,
     "input": [
      "print d['results'][0].keys()"
     ],
     "language": "python",
     "metadata": {},
     "outputs": [
      {
       "output_type": "stream",
       "stream": "stdout",
       "text": [
        "[u'license_title', u'maintainer', u'relationships_as_object', u'private', u'maintainer_email', u'num_tags', u'id', u'metadata_created', u'metadata_modified', u'author', u'author_email', u'state', u'version', u'license_id', u'type', u'resources', u'num_resources', u'tags', u'tracking_summary', u'groups', u'organization', u'relationships_as_subject', u'revision_timestamp', u'name', u'isopen', u'url', u'notes', u'owner_org', u'extras', u'title', u'revision_id']\n"
       ]
      }
     ],
     "prompt_number": 9
    },
    {
     "cell_type": "code",
     "collapsed": false,
     "input": [
      "pprint(d['results'][0]['resources'])\n"
     ],
     "language": "python",
     "metadata": {},
     "outputs": [
      {
       "output_type": "stream",
       "stream": "stdout",
       "text": [
        "[{u'cache_last_updated': None,\n",
        "  u'cache_url': None,\n",
        "  u'created': u'2013-05-20T01:41:12.479373',\n",
        "  u'description': u'',\n",
        "  u'format': u'',\n",
        "  u'hash': u'',\n",
        "  u'id': u'ae4f1268-5e50-4ac8-aee8-81d75504f92d',\n",
        "  u'last_modified': None,\n",
        "  u'mimetype': None,\n",
        "  u'mimetype_inner': None,\n",
        "  u'name': u'Web Page',\n",
        "  u'position': 0,\n",
        "  u'resource_group_id': u'bcd1a009-703b-4563-bf0d-033a605d4661',\n",
        "  u'resource_locator_function': u'',\n",
        "  u'resource_locator_protocol': u'',\n",
        "  u'resource_type': None,\n",
        "  u'revision_id': u'45ed7bd3-2bc4-46e1-bd52-88783cbdd676',\n",
        "  u'revision_timestamp': u'2013-05-19T23:41:12.457220',\n",
        "  u'size': None,\n",
        "  u'state': u'active',\n",
        "  u'tracking_summary': {u'recent': 0, u'total': 0},\n",
        "  u'url': u'http://www.nodc.noaa.gov/cgi-bin/OAS/prd/accession/download/0074922',\n",
        "  u'webstore_last_updated': None,\n",
        "  u'webstore_url': None},\n",
        " {u'cache_last_updated': None,\n",
        "  u'cache_url': None,\n",
        "  u'created': u'2013-05-20T01:41:12.479392',\n",
        "  u'description': u'',\n",
        "  u'format': u'',\n",
        "  u'hash': u'',\n",
        "  u'id': u'567f688c-6648-4328-b9ca-e46bd1dd56cc',\n",
        "  u'last_modified': None,\n",
        "  u'mimetype': None,\n",
        "  u'mimetype_inner': None,\n",
        "  u'name': u'Web Page',\n",
        "  u'position': 1,\n",
        "  u'resource_group_id': u'bcd1a009-703b-4563-bf0d-033a605d4661',\n",
        "  u'resource_locator_function': u'',\n",
        "  u'resource_locator_protocol': u'',\n",
        "  u'resource_type': None,\n",
        "  u'revision_id': u'45ed7bd3-2bc4-46e1-bd52-88783cbdd676',\n",
        "  u'revision_timestamp': u'2013-05-19T23:41:12.457220',\n",
        "  u'size': None,\n",
        "  u'state': u'active',\n",
        "  u'tracking_summary': {u'recent': 0, u'total': 0},\n",
        "  u'url': u'http://data.nodc.noaa.gov/thredds/catalog/ndbc/cmanwx/',\n",
        "  u'webstore_last_updated': None,\n",
        "  u'webstore_url': None},\n",
        " {u'cache_last_updated': None,\n",
        "  u'cache_url': None,\n",
        "  u'created': u'2013-05-20T01:41:12.479397',\n",
        "  u'description': u'',\n",
        "  u'format': u'',\n",
        "  u'hash': u'',\n",
        "  u'id': u'65d1f965-27d6-429c-b1b2-b374d07d78e6',\n",
        "  u'last_modified': None,\n",
        "  u'mimetype': None,\n",
        "  u'mimetype_inner': None,\n",
        "  u'name': u'Web Page',\n",
        "  u'position': 2,\n",
        "  u'resource_group_id': u'bcd1a009-703b-4563-bf0d-033a605d4661',\n",
        "  u'resource_locator_function': u'',\n",
        "  u'resource_locator_protocol': u'',\n",
        "  u'resource_type': None,\n",
        "  u'revision_id': u'45ed7bd3-2bc4-46e1-bd52-88783cbdd676',\n",
        "  u'revision_timestamp': u'2013-05-19T23:41:12.457220',\n",
        "  u'size': None,\n",
        "  u'state': u'active',\n",
        "  u'tracking_summary': {u'recent': 0, u'total': 0},\n",
        "  u'url': u'http://data.nodc.noaa.gov/opendap/ndbc/cmanwx/2011/07',\n",
        "  u'webstore_last_updated': None,\n",
        "  u'webstore_url': None},\n",
        " {u'cache_last_updated': None,\n",
        "  u'cache_url': None,\n",
        "  u'created': u'2013-05-20T01:41:12.479401',\n",
        "  u'description': u'',\n",
        "  u'format': u'',\n",
        "  u'hash': u'',\n",
        "  u'id': u'10c5d503-89cc-4b2d-89da-0fe758e37d18',\n",
        "  u'last_modified': None,\n",
        "  u'mimetype': None,\n",
        "  u'mimetype_inner': None,\n",
        "  u'name': u'Web Page',\n",
        "  u'position': 3,\n",
        "  u'resource_group_id': u'bcd1a009-703b-4563-bf0d-033a605d4661',\n",
        "  u'resource_locator_function': u'',\n",
        "  u'resource_locator_protocol': u'',\n",
        "  u'resource_type': None,\n",
        "  u'revision_id': u'45ed7bd3-2bc4-46e1-bd52-88783cbdd676',\n",
        "  u'revision_timestamp': u'2013-05-19T23:41:12.457220',\n",
        "  u'size': None,\n",
        "  u'state': u'active',\n",
        "  u'tracking_summary': {u'recent': 0, u'total': 0},\n",
        "  u'url': u'ftp://ftp.nodc.noaa.gov/pub/data.nodc/ndbc/cmanwx/',\n",
        "  u'webstore_last_updated': None,\n",
        "  u'webstore_url': None},\n",
        " {u'cache_last_updated': None,\n",
        "  u'cache_url': None,\n",
        "  u'created': u'2013-05-20T01:41:12.479405',\n",
        "  u'description': u'',\n",
        "  u'format': u'',\n",
        "  u'hash': u'',\n",
        "  u'id': u'53c1b069-fd71-457c-8292-fe97d2679a0e',\n",
        "  u'last_modified': None,\n",
        "  u'mimetype': None,\n",
        "  u'mimetype_inner': None,\n",
        "  u'name': u'Web Page',\n",
        "  u'position': 4,\n",
        "  u'resource_group_id': u'bcd1a009-703b-4563-bf0d-033a605d4661',\n",
        "  u'resource_locator_function': u'',\n",
        "  u'resource_locator_protocol': u'',\n",
        "  u'resource_type': None,\n",
        "  u'revision_id': u'45ed7bd3-2bc4-46e1-bd52-88783cbdd676',\n",
        "  u'revision_timestamp': u'2013-05-19T23:41:12.457220',\n",
        "  u'size': None,\n",
        "  u'state': u'active',\n",
        "  u'tracking_summary': {u'recent': 0, u'total': 0},\n",
        "  u'url': u'http://accession.nodc.noaa.gov/0074922',\n",
        "  u'webstore_last_updated': None,\n",
        "  u'webstore_url': None},\n",
        " {u'cache_last_updated': None,\n",
        "  u'cache_url': None,\n",
        "  u'created': u'2013-05-20T01:41:12.479408',\n",
        "  u'description': u'',\n",
        "  u'format': u'',\n",
        "  u'hash': u'',\n",
        "  u'id': u'f8e30cb9-372a-46e8-9c8a-dd931c29f593',\n",
        "  u'last_modified': None,\n",
        "  u'mimetype': None,\n",
        "  u'mimetype_inner': None,\n",
        "  u'name': u'Web Page',\n",
        "  u'position': 5,\n",
        "  u'resource_group_id': u'bcd1a009-703b-4563-bf0d-033a605d4661',\n",
        "  u'resource_locator_function': u'',\n",
        "  u'resource_locator_protocol': u'',\n",
        "  u'resource_type': None,\n",
        "  u'revision_id': u'45ed7bd3-2bc4-46e1-bd52-88783cbdd676',\n",
        "  u'revision_timestamp': u'2013-05-19T23:41:12.457220',\n",
        "  u'size': None,\n",
        "  u'state': u'active',\n",
        "  u'tracking_summary': {u'recent': 0, u'total': 0},\n",
        "  u'url': u'http://accession.nodc.noaa.gov/0070493',\n",
        "  u'webstore_last_updated': None,\n",
        "  u'webstore_url': None},\n",
        " {u'cache_last_updated': None,\n",
        "  u'cache_url': None,\n",
        "  u'created': u'2013-05-20T01:41:12.479412',\n",
        "  u'description': u'',\n",
        "  u'format': u'',\n",
        "  u'hash': u'',\n",
        "  u'id': u'9ebc0d66-110e-4c32-9e12-84918dbe7eb0',\n",
        "  u'last_modified': None,\n",
        "  u'mimetype': None,\n",
        "  u'mimetype_inner': None,\n",
        "  u'name': u'Web Page',\n",
        "  u'position': 6,\n",
        "  u'resource_group_id': u'bcd1a009-703b-4563-bf0d-033a605d4661',\n",
        "  u'resource_locator_function': u'',\n",
        "  u'resource_locator_protocol': u'',\n",
        "  u'resource_type': None,\n",
        "  u'revision_id': u'45ed7bd3-2bc4-46e1-bd52-88783cbdd676',\n",
        "  u'revision_timestamp': u'2013-05-19T23:41:12.457220',\n",
        "  u'size': None,\n",
        "  u'state': u'active',\n",
        "  u'tracking_summary': {u'recent': 0, u'total': 0},\n",
        "  u'url': u'http://journals.ametsoc.org/doi/abs/10.1175/1520-0426%281993%29010%3C0097%3ADWFEOT%3E2.0.CO%3B2',\n",
        "  u'webstore_last_updated': None,\n",
        "  u'webstore_url': None},\n",
        " {u'cache_last_updated': None,\n",
        "  u'cache_url': None,\n",
        "  u'created': u'2013-05-20T01:41:12.479416',\n",
        "  u'description': u'eval_NDBC_moored_winds.pdf',\n",
        "  u'format': u'PDF',\n",
        "  u'hash': u'',\n",
        "  u'id': u'3746c191-6072-4e36-9f8f-e71798b797e1',\n",
        "  u'last_modified': None,\n",
        "  u'mimetype': None,\n",
        "  u'mimetype_inner': None,\n",
        "  u'name': u'PDF File',\n",
        "  u'position': 7,\n",
        "  u'resource_group_id': u'bcd1a009-703b-4563-bf0d-033a605d4661',\n",
        "  u'resource_locator_function': u'',\n",
        "  u'resource_locator_protocol': u'',\n",
        "  u'resource_type': None,\n",
        "  u'revision_id': u'45ed7bd3-2bc4-46e1-bd52-88783cbdd676',\n",
        "  u'revision_timestamp': u'2013-05-19T23:41:12.457220',\n",
        "  u'size': None,\n",
        "  u'state': u'active',\n",
        "  u'tracking_summary': {u'recent': 0, u'total': 0},\n",
        "  u'url': u'http://www.worldwindsinc.com/TechPapers/dgil/eval_NDBC_moored_winds.pdf',\n",
        "  u'webstore_last_updated': None,\n",
        "  u'webstore_url': None}]\n"
       ]
      }
     ],
     "prompt_number": 10
    },
    {
     "cell_type": "code",
     "collapsed": false,
     "input": [
      "print d['results'][0]['resources'][0]['url']"
     ],
     "language": "python",
     "metadata": {},
     "outputs": [
      {
       "output_type": "stream",
       "stream": "stdout",
       "text": [
        "http://www.nodc.noaa.gov/cgi-bin/OAS/prd/accession/download/0074922\n"
       ]
      }
     ],
     "prompt_number": 11
    },
    {
     "cell_type": "markdown",
     "metadata": {},
     "source": [
      "Now let's see what the urls looks like for all the resources"
     ]
    },
    {
     "cell_type": "code",
     "collapsed": false,
     "input": [
      "for item in d['results']:\n",
      "    for member in item['resources']:\n",
      "        print 'url:',member['url']\n",
      "        print 'protocol:',member['resource_locator_protocol']\n",
      "        print 'resource_type:',member['resource_type']"
     ],
     "language": "python",
     "metadata": {},
     "outputs": [
      {
       "output_type": "stream",
       "stream": "stdout",
       "text": [
        "url: http://www.nodc.noaa.gov/cgi-bin/OAS/prd/accession/download/0074922\n",
        "protocol: \n",
        "resource_type: None\n",
        "url: http://data.nodc.noaa.gov/thredds/catalog/ndbc/cmanwx/\n",
        "protocol: \n",
        "resource_type: None\n",
        "url: http://data.nodc.noaa.gov/opendap/ndbc/cmanwx/2011/07\n",
        "protocol: \n",
        "resource_type: None\n",
        "url: ftp://ftp.nodc.noaa.gov/pub/data.nodc/ndbc/cmanwx/\n",
        "protocol: \n",
        "resource_type: None\n",
        "url: http://accession.nodc.noaa.gov/0074922\n",
        "protocol: \n",
        "resource_type: None\n",
        "url: http://accession.nodc.noaa.gov/0070493\n",
        "protocol: \n",
        "resource_type: None\n",
        "url: http://journals.ametsoc.org/doi/abs/10.1175/1520-0426%281993%29010%3C0097%3ADWFEOT%3E2.0.CO%3B2\n",
        "protocol: \n",
        "resource_type: None\n",
        "url: http://www.worldwindsinc.com/TechPapers/dgil/eval_NDBC_moored_winds.pdf\n",
        "protocol: \n",
        "resource_type: None\n",
        "url: http://www.nodc.noaa.gov/cgi-bin/OAS/prd/accession/download/0070959\n",
        "protocol: \n",
        "resource_type: None\n",
        "url: http://data.nodc.noaa.gov/thredds/catalog/ndbc/cmanwx/\n",
        "protocol: \n",
        "resource_type: None\n",
        "url: http://data.nodc.noaa.gov/opendap/ndbc/cmanwx/2011/01\n",
        "protocol: \n",
        "resource_type: None\n",
        "url: ftp://ftp.nodc.noaa.gov/pub/data.nodc/ndbc/cmanwx/\n",
        "protocol: \n",
        "resource_type: None\n",
        "url: http://accession.nodc.noaa.gov/0070959\n",
        "protocol: \n",
        "resource_type: None\n",
        "url: http://accession.nodc.noaa.gov/0070493\n",
        "protocol: \n",
        "resource_type: None\n",
        "url: http://journals.ametsoc.org/doi/abs/10.1175/1520-0426%281993%29010%3C0097%3ADWFEOT%3E2.0.CO%3B2\n",
        "protocol: \n",
        "resource_type: None\n",
        "url: http://www.worldwindsinc.com/TechPapers/dgil/eval_NDBC_moored_winds.pdf\n",
        "protocol: \n",
        "resource_type: None\n",
        "url: http://www.nodc.noaa.gov/cgi-bin/OAS/prd/accession/download/0071368\n",
        "protocol: \n",
        "resource_type: None\n",
        "url: http://data.nodc.noaa.gov/thredds/catalog/ndbc/cmanwx/\n",
        "protocol: \n",
        "resource_type: None\n",
        "url: http://data.nodc.noaa.gov/opendap/ndbc/cmanwx/2011/02\n",
        "protocol: \n",
        "resource_type: None\n",
        "url: ftp://ftp.nodc.noaa.gov/pub/data.nodc/ndbc/cmanwx/\n",
        "protocol: \n",
        "resource_type: None\n",
        "url: http://accession.nodc.noaa.gov/0071368\n",
        "protocol: \n",
        "resource_type: None\n",
        "url: http://accession.nodc.noaa.gov/0070493\n",
        "protocol: \n",
        "resource_type: None\n",
        "url: http://journals.ametsoc.org/doi/abs/10.1175/1520-0426%281993%29010%3C0097%3ADWFEOT%3E2.0.CO%3B2\n",
        "protocol: \n",
        "resource_type: None\n",
        "url: http://www.worldwindsinc.com/TechPapers/dgil/eval_NDBC_moored_winds.pdf\n",
        "protocol: \n",
        "resource_type: None\n",
        "url: http://www.nodc.noaa.gov/cgi-bin/OAS/prd/accession/download/0073426\n",
        "protocol: \n",
        "resource_type: None\n",
        "url: http://data.nodc.noaa.gov/thredds/catalog/ndbc/cmanwx/\n",
        "protocol: \n",
        "resource_type: None\n",
        "url: http://data.nodc.noaa.gov/opendap/ndbc/cmanwx/2011/05\n",
        "protocol: \n",
        "resource_type: None\n",
        "url: ftp://ftp.nodc.noaa.gov/pub/data.nodc/ndbc/cmanwx/\n",
        "protocol: \n",
        "resource_type: None\n",
        "url: http://accession.nodc.noaa.gov/0073426\n",
        "protocol: \n",
        "resource_type: None\n",
        "url: http://accession.nodc.noaa.gov/0070493\n",
        "protocol: \n",
        "resource_type: None\n",
        "url: http://journals.ametsoc.org/doi/abs/10.1175/1520-0426%281993%29010%3C0097%3ADWFEOT%3E2.0.CO%3B2\n",
        "protocol: \n",
        "resource_type: None\n",
        "url: http://www.worldwindsinc.com/TechPapers/dgil/eval_NDBC_moored_winds.pdf\n",
        "protocol: \n",
        "resource_type: None\n",
        "url: http://www.nodc.noaa.gov/cgi-bin/OAS/prd/accession/download/0072077\n",
        "protocol: \n",
        "resource_type: None\n",
        "url: http://data.nodc.noaa.gov/thredds/catalog/ndbc/cmanwx/\n",
        "protocol: \n",
        "resource_type: None\n",
        "url: http://data.nodc.noaa.gov/opendap/ndbc/cmanwx/\n",
        "protocol: \n",
        "resource_type: None\n",
        "url: ftp://ftp.nodc.noaa.gov/pub/data.nodc/ndbc/cmanwx/\n",
        "protocol: \n",
        "resource_type: None\n",
        "url: http://accession.nodc.noaa.gov/0072077\n",
        "protocol: \n",
        "resource_type: None\n",
        "url: http://accession.nodc.noaa.gov/0070493\n",
        "protocol: \n",
        "resource_type: None\n",
        "url: http://journals.ametsoc.org/doi/abs/10.1175/1520-0426%281993%29010%3C0097%3ADWFEOT%3E2.0.CO%3B2\n",
        "protocol: \n",
        "resource_type: None\n",
        "url: http://www.worldwindsinc.com/TechPapers/dgil/eval_NDBC_moored_winds.pdf\n",
        "protocol: \n",
        "resource_type: None\n",
        "url: http://www.nodc.noaa.gov/cgi-bin/OAS/prd/accession/download/0074384\n",
        "protocol: \n",
        "resource_type: None\n",
        "url: http://data.nodc.noaa.gov/thredds/catalog/ndbc/cmanwx/\n",
        "protocol: \n",
        "resource_type: None\n",
        "url: http://data.nodc.noaa.gov/opendap/ndbc/cmanwx/2011/06\n",
        "protocol: \n",
        "resource_type: None\n",
        "url: ftp://ftp.nodc.noaa.gov/pub/data.nodc/ndbc/cmanwx/\n",
        "protocol: \n",
        "resource_type: None\n",
        "url: http://accession.nodc.noaa.gov/0074384\n",
        "protocol: \n",
        "resource_type: None\n",
        "url: http://accession.nodc.noaa.gov/0070493\n",
        "protocol: \n",
        "resource_type: None\n",
        "url: http://journals.ametsoc.org/doi/abs/10.1175/1520-0426%281993%29010%3C0097%3ADWFEOT%3E2.0.CO%3B2\n",
        "protocol: \n",
        "resource_type: None\n",
        "url: http://www.worldwindsinc.com/TechPapers/dgil/eval_NDBC_moored_winds.pdf\n",
        "protocol: \n",
        "resource_type: None\n",
        "url: http://www.nodc.noaa.gov/cgi-bin/OAS/prd/accession/download/0072886\n",
        "protocol: \n",
        "resource_type: None\n",
        "url: http://data.nodc.noaa.gov/thredds/catalog/ndbc/cmanwx/\n",
        "protocol: \n",
        "resource_type: None\n",
        "url: http://data.nodc.noaa.gov/opendap/ndbc/cmanwx/2011/04\n",
        "protocol: \n",
        "resource_type: None\n",
        "url: ftp://ftp.nodc.noaa.gov/pub/data.nodc/ndbc/cmanwx/\n",
        "protocol: \n",
        "resource_type: None\n",
        "url: http://accession.nodc.noaa.gov/0072886\n",
        "protocol: \n",
        "resource_type: None\n",
        "url: http://accession.nodc.noaa.gov/0070493\n",
        "protocol: \n",
        "resource_type: None\n",
        "url: http://journals.ametsoc.org/doi/abs/10.1175/1520-0426%281993%29010%3C0097%3ADWFEOT%3E2.0.CO%3B2\n",
        "protocol: \n",
        "resource_type: None\n",
        "url: http://www.worldwindsinc.com/TechPapers/dgil/eval_NDBC_moored_winds.pdf\n",
        "protocol: \n",
        "resource_type: None\n",
        "url: http://repository.stategeothermaldata.org/metadata/record/98ddf901b9782a25982e01af3b0b6710/file/ca_sanyal_geopres_resources_in_ca.pdf\n",
        "protocol: \n",
        "resource_type: None\n",
        "url: ftp://ftp.consrv.ca.gov/pub/oil/publications/tr15.pdf\n",
        "protocol: \n",
        "resource_type: None\n",
        "url: http://repository.stategeothermaldata.org/metadata/record/98ddf901b9782a25982e01af3b0b33f8/file/the_nature_and_occurrence_of_geopressured_resource_areas_in_the_state_of_california_-_by_subir_sanyal_etal.pdf\n",
        "protocol: \n",
        "resource_type: None\n"
       ]
      }
     ],
     "prompt_number": 12
    },
    {
     "cell_type": "markdown",
     "metadata": {},
     "source": [
      "So there are multiple resources for each record.  Let's check out a some specific resource urls for all datasets"
     ]
    },
    {
     "cell_type": "code",
     "collapsed": false,
     "input": [
      "resource_number=0\n",
      "for item in d['results']:\n",
      "    print item['resources'][resource_number]['url']"
     ],
     "language": "python",
     "metadata": {},
     "outputs": [
      {
       "output_type": "stream",
       "stream": "stdout",
       "text": [
        "http://www.nodc.noaa.gov/cgi-bin/OAS/prd/accession/download/0074922\n",
        "http://www.nodc.noaa.gov/cgi-bin/OAS/prd/accession/download/0070959\n",
        "http://www.nodc.noaa.gov/cgi-bin/OAS/prd/accession/download/0071368\n",
        "http://www.nodc.noaa.gov/cgi-bin/OAS/prd/accession/download/0073426\n",
        "http://www.nodc.noaa.gov/cgi-bin/OAS/prd/accession/download/0072077\n",
        "http://www.nodc.noaa.gov/cgi-bin/OAS/prd/accession/download/0074384\n",
        "http://www.nodc.noaa.gov/cgi-bin/OAS/prd/accession/download/0072886\n",
        "http://repository.stategeothermaldata.org/metadata/record/98ddf901b9782a25982e01af3b0b6710/file/ca_sanyal_geopres_resources_in_ca.pdf\n",
        "ftp://ftp.consrv.ca.gov/pub/oil/publications/tr15.pdf\n",
        "http://repository.stategeothermaldata.org/metadata/record/98ddf901b9782a25982e01af3b0b33f8/file/the_nature_and_occurrence_of_geopressured_resource_areas_in_the_state_of_california_-_by_subir_sanyal_etal.pdf\n"
       ]
      }
     ],
     "prompt_number": 13
    },
    {
     "cell_type": "code",
     "collapsed": false,
     "input": [
      "resource_number=1\n",
      "for item in d['results']:\n",
      "    print item['resources'][resource_number]['url']"
     ],
     "language": "python",
     "metadata": {},
     "outputs": [
      {
       "ename": "IndexError",
       "evalue": "list index out of range",
       "output_type": "pyerr",
       "traceback": [
        "\u001b[1;31m---------------------------------------------------------------------------\u001b[0m\n\u001b[1;31mIndexError\u001b[0m                                Traceback (most recent call last)",
        "\u001b[1;32m<ipython-input-14-40679c96a025>\u001b[0m in \u001b[0;36m<module>\u001b[1;34m()\u001b[0m\n\u001b[0;32m      1\u001b[0m \u001b[0mresource_number\u001b[0m\u001b[1;33m=\u001b[0m\u001b[1;36m1\u001b[0m\u001b[1;33m\u001b[0m\u001b[0m\n\u001b[0;32m      2\u001b[0m \u001b[1;32mfor\u001b[0m \u001b[0mitem\u001b[0m \u001b[1;32min\u001b[0m \u001b[0md\u001b[0m\u001b[1;33m[\u001b[0m\u001b[1;34m'results'\u001b[0m\u001b[1;33m]\u001b[0m\u001b[1;33m:\u001b[0m\u001b[1;33m\u001b[0m\u001b[0m\n\u001b[1;32m----> 3\u001b[1;33m     \u001b[1;32mprint\u001b[0m \u001b[0mitem\u001b[0m\u001b[1;33m[\u001b[0m\u001b[1;34m'resources'\u001b[0m\u001b[1;33m]\u001b[0m\u001b[1;33m[\u001b[0m\u001b[0mresource_number\u001b[0m\u001b[1;33m]\u001b[0m\u001b[1;33m[\u001b[0m\u001b[1;34m'url'\u001b[0m\u001b[1;33m]\u001b[0m\u001b[1;33m\u001b[0m\u001b[0m\n\u001b[0m",
        "\u001b[1;31mIndexError\u001b[0m: list index out of range"
       ]
      },
      {
       "output_type": "stream",
       "stream": "stdout",
       "text": [
        "http://data.nodc.noaa.gov/thredds/catalog/ndbc/cmanwx/\n",
        "http://data.nodc.noaa.gov/thredds/catalog/ndbc/cmanwx/\n",
        "http://data.nodc.noaa.gov/thredds/catalog/ndbc/cmanwx/\n",
        "http://data.nodc.noaa.gov/thredds/catalog/ndbc/cmanwx/\n",
        "http://data.nodc.noaa.gov/thredds/catalog/ndbc/cmanwx/\n",
        "http://data.nodc.noaa.gov/thredds/catalog/ndbc/cmanwx/\n",
        "http://data.nodc.noaa.gov/thredds/catalog/ndbc/cmanwx/\n"
       ]
      }
     ],
     "prompt_number": 14
    },
    {
     "cell_type": "markdown",
     "metadata": {},
     "source": [
      "Hmm...  These are not data granules, but data collections. We need the actually OPeNDAP dataset URLs.  How do we get from this catalog information to the actual dataset service endpoints?   Let's try looking for NetCDF"
     ]
    },
    {
     "cell_type": "code",
     "collapsed": false,
     "input": [
      "search_params = {                                                                               \n",
      "    'q': 'tags:\"sea_water_temperature\"',\n",
      "    'fq': 'res_format:NetCDF',\n",
      "    'rows': 5                                                                                                                            \n",
      "}\n",
      "d = ckan.action('package_search', **search_params) \n",
      "print d['count']"
     ],
     "language": "python",
     "metadata": {},
     "outputs": [
      {
       "output_type": "stream",
       "stream": "stdout",
       "text": [
        "0\n"
       ]
      }
     ],
     "prompt_number": 15
    },
    {
     "cell_type": "markdown",
     "metadata": {},
     "source": [
      "Hmmm.. We got skunked.  Maybe try just `temperature` instead of `sea_water_temperature`?"
     ]
    },
    {
     "cell_type": "code",
     "collapsed": false,
     "input": [
      "search_params = {                                                                               \n",
      "    'q': 'tags:\"temperature\"',\n",
      "    'fq': 'res_format:NetCDF',\n",
      "    'rows': 5                                                                                                                            \n",
      "}\n",
      "d = ckan.action('package_search', **search_params) \n",
      "print d['count']"
     ],
     "language": "python",
     "metadata": {},
     "outputs": [
      {
       "output_type": "stream",
       "stream": "stdout",
       "text": [
        "2574\n"
       ]
      }
     ],
     "prompt_number": 16
    },
    {
     "cell_type": "markdown",
     "metadata": {},
     "source": [
      "Well, that's better!"
     ]
    },
    {
     "cell_type": "code",
     "collapsed": false,
     "input": [
      "for item in d['results']:\n",
      "    for member in item['resources']:\n",
      "        print member['url']"
     ],
     "language": "python",
     "metadata": {},
     "outputs": [
      {
       "output_type": "stream",
       "stream": "stdout",
       "text": [
        "http://data.nodc.noaa.gov/opendap/nmsp/wcos/WES001/2010/WES001_030MTBD011R00_20100416.nc.html\n",
        "http://data.nodc.noaa.gov/thredds/catalog/nmsp/wcos/WES001/2010/catalog.html?dataset=nmsp/wcos/WES001/2010/WES001_030MTBD011R00_20100416.nc\n",
        "http://data.nodc.noaa.gov/thredds/catalog/nmsp/wcos/WES001/2010/catalog.html?dataset=nmsp/wcos/WES001/2010/WES001_030MTBD011R00_20100416.nc\n",
        "http://data.nodc.noaa.gov/opendap/nmsp/wcos/WES001/2010/WES001_030MTBD011R00_20100416.nc.html\n",
        "http://data.nodc.noaa.gov/thredds/dodsC/nmsp/wcos/WES001/2010/catalog.html?dataset=nmsp/wcos/WES001/2010/WES001_030MTBD011R00_20100416.nc\n",
        "http://data.nodc.noaa.gov/opendap/nmsp/wcos/SMS/2005/SMSXXX_015MTBD014R00_20051113.nc.html\n",
        "http://data.nodc.noaa.gov/thredds/catalog/nmsp/wcos/SMS/2005/catalog.html?dataset=nmsp/wcos/SMS/2005/SMSXXX_015MTBD014R00_20051113.nc\n",
        "http://data.nodc.noaa.gov/thredds/catalog/nmsp/wcos/SMS/2005/catalog.html?dataset=nmsp/wcos/SMS/2005/SMSXXX_015MTBD014R00_20051113.nc\n",
        "http://data.nodc.noaa.gov/opendap/nmsp/wcos/SMS/2005/SMSXXX_015MTBD014R00_20051113.nc.html\n",
        "http://data.nodc.noaa.gov/thredds/dodsC/nmsp/wcos/SMS/2005/catalog.html?dataset=nmsp/wcos/SMS/2005/SMSXXX_015MTBD014R00_20051113.nc\n",
        "http://data.nodc.noaa.gov/opendap/nmsp/wcos/TH042/2005/TH042X_042MTBD000R00_20050628.nc.html\n",
        "http://data.nodc.noaa.gov/thredds/catalog/nmsp/wcos/TH042/2005/catalog.html?dataset=nmsp/wcos/TH042/2005/TH042X_042MTBD000R00_20050628.nc\n",
        "http://data.nodc.noaa.gov/thredds/catalog/nmsp/wcos/TH042/2005/catalog.html?dataset=nmsp/wcos/TH042/2005/TH042X_042MTBD000R00_20050628.nc\n",
        "http://data.nodc.noaa.gov/opendap/nmsp/wcos/TH042/2005/TH042X_042MTBD000R00_20050628.nc.html\n",
        "http://data.nodc.noaa.gov/thredds/dodsC/nmsp/wcos/TH042/2005/catalog.html?dataset=nmsp/wcos/TH042/2005/TH042X_042MTBD000R00_20050628.nc\n",
        "http://data.nodc.noaa.gov/opendap/nmsp/wcos/CE042/2006/CE042X_042MTBD007R00_20060504.nc.html\n",
        "http://data.nodc.noaa.gov/thredds/catalog/nmsp/wcos/CE042/2006/catalog.html?dataset=nmsp/wcos/CE042/2006/CE042X_042MTBD007R00_20060504.nc\n",
        "http://data.nodc.noaa.gov/thredds/catalog/nmsp/wcos/CE042/2006/catalog.html?dataset=nmsp/wcos/CE042/2006/CE042X_042MTBD007R00_20060504.nc\n",
        "http://data.nodc.noaa.gov/opendap/nmsp/wcos/CE042/2006/CE042X_042MTBD007R00_20060504.nc.html\n",
        "http://data.nodc.noaa.gov/thredds/dodsC/nmsp/wcos/CE042/2006/catalog.html?dataset=nmsp/wcos/CE042/2006/CE042X_042MTBD007R00_20060504.nc\n",
        "http://data.nodc.noaa.gov/opendap/nmsp/wcos/SMS/2008/SMSXXX_015MTBD003R00_20080227.nc.html\n",
        "http://data.nodc.noaa.gov/thredds/catalog/nmsp/wcos/SMS/2008/catalog.html?dataset=nmsp/wcos/SMS/2008/SMSXXX_015MTBD003R00_20080227.nc\n",
        "http://data.nodc.noaa.gov/thredds/catalog/nmsp/wcos/SMS/2008/catalog.html?dataset=nmsp/wcos/SMS/2008/SMSXXX_015MTBD003R00_20080227.nc\n",
        "http://data.nodc.noaa.gov/opendap/nmsp/wcos/SMS/2008/SMSXXX_015MTBD003R00_20080227.nc.html\n",
        "http://data.nodc.noaa.gov/thredds/dodsC/nmsp/wcos/SMS/2008/catalog.html?dataset=nmsp/wcos/SMS/2008/SMSXXX_015MTBD003R00_20080227.nc\n"
       ]
      }
     ],
     "prompt_number": 17
    },
    {
     "cell_type": "code",
     "collapsed": false,
     "input": [
      "resource_number=0\n",
      "for item in d['results']:\n",
      "    print item['resources'][resource_number]['url']"
     ],
     "language": "python",
     "metadata": {},
     "outputs": [
      {
       "output_type": "stream",
       "stream": "stdout",
       "text": [
        "http://data.nodc.noaa.gov/opendap/nmsp/wcos/WES001/2010/WES001_030MTBD011R00_20100416.nc.html\n",
        "http://data.nodc.noaa.gov/opendap/nmsp/wcos/SMS/2005/SMSXXX_015MTBD014R00_20051113.nc.html\n",
        "http://data.nodc.noaa.gov/opendap/nmsp/wcos/TH042/2005/TH042X_042MTBD000R00_20050628.nc.html\n",
        "http://data.nodc.noaa.gov/opendap/nmsp/wcos/CE042/2006/CE042X_042MTBD007R00_20060504.nc.html\n",
        "http://data.nodc.noaa.gov/opendap/nmsp/wcos/SMS/2008/SMSXXX_015MTBD003R00_20080227.nc.html\n"
       ]
      }
     ],
     "prompt_number": 18
    },
    {
     "cell_type": "code",
     "collapsed": false,
     "input": [
      "resource_number=1\n",
      "for item in d['results']:\n",
      "    print item['resources'][resource_number]['url']"
     ],
     "language": "python",
     "metadata": {},
     "outputs": [
      {
       "output_type": "stream",
       "stream": "stdout",
       "text": [
        "http://data.nodc.noaa.gov/thredds/catalog/nmsp/wcos/WES001/2010/catalog.html?dataset=nmsp/wcos/WES001/2010/WES001_030MTBD011R00_20100416.nc\n",
        "http://data.nodc.noaa.gov/thredds/catalog/nmsp/wcos/SMS/2005/catalog.html?dataset=nmsp/wcos/SMS/2005/SMSXXX_015MTBD014R00_20051113.nc\n",
        "http://data.nodc.noaa.gov/thredds/catalog/nmsp/wcos/TH042/2005/catalog.html?dataset=nmsp/wcos/TH042/2005/TH042X_042MTBD000R00_20050628.nc\n",
        "http://data.nodc.noaa.gov/thredds/catalog/nmsp/wcos/CE042/2006/catalog.html?dataset=nmsp/wcos/CE042/2006/CE042X_042MTBD007R00_20060504.nc\n",
        "http://data.nodc.noaa.gov/thredds/catalog/nmsp/wcos/SMS/2008/catalog.html?dataset=nmsp/wcos/SMS/2008/SMSXXX_015MTBD003R00_20080227.nc\n"
       ]
      }
     ],
     "prompt_number": 19
    },
    {
     "cell_type": "code",
     "collapsed": false,
     "input": [
      "resource_number=2\n",
      "for item in d['results']:\n",
      "    print item['resources'][resource_number]['url']"
     ],
     "language": "python",
     "metadata": {},
     "outputs": [
      {
       "output_type": "stream",
       "stream": "stdout",
       "text": [
        "http://data.nodc.noaa.gov/thredds/catalog/nmsp/wcos/WES001/2010/catalog.html?dataset=nmsp/wcos/WES001/2010/WES001_030MTBD011R00_20100416.nc\n",
        "http://data.nodc.noaa.gov/thredds/catalog/nmsp/wcos/SMS/2005/catalog.html?dataset=nmsp/wcos/SMS/2005/SMSXXX_015MTBD014R00_20051113.nc\n",
        "http://data.nodc.noaa.gov/thredds/catalog/nmsp/wcos/TH042/2005/catalog.html?dataset=nmsp/wcos/TH042/2005/TH042X_042MTBD000R00_20050628.nc\n",
        "http://data.nodc.noaa.gov/thredds/catalog/nmsp/wcos/CE042/2006/catalog.html?dataset=nmsp/wcos/CE042/2006/CE042X_042MTBD007R00_20060504.nc\n",
        "http://data.nodc.noaa.gov/thredds/catalog/nmsp/wcos/SMS/2008/catalog.html?dataset=nmsp/wcos/SMS/2008/SMSXXX_015MTBD003R00_20080227.nc\n"
       ]
      }
     ],
     "prompt_number": 20
    },
    {
     "cell_type": "markdown",
     "metadata": {},
     "source": [
      "Let's get a list of the OPeNDAP Data URLs"
     ]
    },
    {
     "cell_type": "code",
     "collapsed": false,
     "input": [
      "resource_number=3\n",
      "dap_url=[]\n",
      "for item in d['results']:\n",
      "    dap_url.append(item['resources'][resource_number]['url'].split('.html')[0])\n",
      "pprint(dap_url)"
     ],
     "language": "python",
     "metadata": {},
     "outputs": [
      {
       "output_type": "stream",
       "stream": "stdout",
       "text": [
        "[u'http://data.nodc.noaa.gov/opendap/nmsp/wcos/WES001/2010/WES001_030MTBD011R00_20100416.nc',\n",
        " u'http://data.nodc.noaa.gov/opendap/nmsp/wcos/SMS/2005/SMSXXX_015MTBD014R00_20051113.nc',\n",
        " u'http://data.nodc.noaa.gov/opendap/nmsp/wcos/TH042/2005/TH042X_042MTBD000R00_20050628.nc',\n",
        " u'http://data.nodc.noaa.gov/opendap/nmsp/wcos/CE042/2006/CE042X_042MTBD007R00_20060504.nc',\n",
        " u'http://data.nodc.noaa.gov/opendap/nmsp/wcos/SMS/2008/SMSXXX_015MTBD003R00_20080227.nc']\n"
       ]
      }
     ],
     "prompt_number": 21
    },
    {
     "cell_type": "code",
     "collapsed": false,
     "input": [],
     "language": "python",
     "metadata": {},
     "outputs": [],
     "prompt_number": 21
    },
    {
     "cell_type": "markdown",
     "metadata": {},
     "source": [
      "Now let's try to read one of the OPeNDAP Data URLs"
     ]
    },
    {
     "cell_type": "code",
     "collapsed": false,
     "input": [
      "import netCDF4"
     ],
     "language": "python",
     "metadata": {},
     "outputs": [],
     "prompt_number": 22
    },
    {
     "cell_type": "code",
     "collapsed": false,
     "input": [
      "nc = netCDF4.Dataset(dap_url[0])"
     ],
     "language": "python",
     "metadata": {},
     "outputs": []
    },
    {
     "cell_type": "code",
     "collapsed": false,
     "input": [
      "nc.Conventions"
     ],
     "language": "python",
     "metadata": {},
     "outputs": []
    },
    {
     "cell_type": "code",
     "collapsed": false,
     "input": [
      "print nc.variables.keys()\n",
      "ncvar=nc.variables"
     ],
     "language": "python",
     "metadata": {},
     "outputs": []
    },
    {
     "cell_type": "code",
     "collapsed": false,
     "input": [
      "print ncvar['yearday']\n",
      "print ncvar['Temperature']"
     ],
     "language": "python",
     "metadata": {},
     "outputs": []
    },
    {
     "cell_type": "markdown",
     "metadata": {},
     "source": [
      "Uh, this says it's CF 1.4, but no way is it CF 1.4.  There are not even units on time! <br>\n",
      "The long_name of time is just `Day of the Year`, but there doesn't even seem to be information in the file to say what year:"
     ]
    },
    {
     "cell_type": "code",
     "collapsed": false,
     "input": [
      "for name in nc.ncattrs():\n",
      "    print name, '=', getattr(nc,name)"
     ],
     "language": "python",
     "metadata": {},
     "outputs": []
    },
    {
     "cell_type": "markdown",
     "metadata": {},
     "source": [
      "So if we are going to plot this, it's going to be with a human trying to figure out what is what:"
     ]
    },
    {
     "cell_type": "code",
     "collapsed": false,
     "input": [
      "len=10000\n",
      "yd=ncvar['yearday'][0:len].flatten()\n",
      "t=ncvar['Temperature'][0:len].flatten()\n",
      "figsize(12,4)\n",
      "plot(yd,t)"
     ],
     "language": "python",
     "metadata": {},
     "outputs": []
    },
    {
     "cell_type": "markdown",
     "metadata": {},
     "source": [
      "Still don't know what year this is.  Guess 2012 since that's when the conversion script was run by NCDDC?"
     ]
    },
    {
     "cell_type": "code",
     "collapsed": false,
     "input": [
      "HTML(html)"
     ],
     "language": "python",
     "metadata": {},
     "outputs": []
    },
    {
     "cell_type": "code",
     "collapsed": false,
     "input": [],
     "language": "python",
     "metadata": {},
     "outputs": []
    }
   ],
   "metadata": {}
  }
 ]
}