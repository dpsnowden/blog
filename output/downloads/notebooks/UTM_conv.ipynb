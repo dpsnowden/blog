{
 "metadata": {
  "name": ""
 },
 "nbformat": 3,
 "nbformat_minor": 0,
 "worksheets": [
  {
   "cells": [
    {
     "cell_type": "code",
     "collapsed": false,
     "input": [
      "from IPython.core.display import HTML\n",
      "\n",
      "with open('creative_commons.txt', 'r') as f:\n",
      "    html = f.read()\n",
      "    \n",
      "with open('./styles/custom.css', 'r') as f:\n",
      "    styles = f.read()\n",
      "    \n",
      "HTML(styles)\n",
      "\n",
      "name = 'UTM_conv'\n",
      "\n",
      "html = \"\"\"\n",
      "<small>\n",
      "<p> This post was written as an IPython notebook. It is available for <a href=\"http://ocef\n",
      "paf.github.com/downloads/notebooks/%s.ipynb\">download</a> or as a static <a href=\"http://\n",
      "nbviewer.ipython.org/url/ocefpaf.github.com/downloads/notebooks/%s.ipynb\">html</a>.</p>\n",
      "<p></p>\n",
      "%s \"\"\" % (name, name, html)"
     ],
     "language": "python",
     "metadata": {},
     "outputs": [],
     "prompt_number": 1
    },
    {
     "cell_type": "markdown",
     "metadata": {},
     "source": [
      "This post is a quick note on how to convert to and from UTM coordinates using\n",
      "[pyproj](pyproj).\n",
      "\n",
      "As the end of the year approaches my TODO list gets bigger and bigger and my\n",
      "posts get smaller and smaller...  Well, this one is small but I find it useful.\n",
      "I always need to check how to do this every I need to convert to/from UTM\n",
      "coordinates."
     ]
    },
    {
     "cell_type": "markdown",
     "metadata": {},
     "source": [
      "`pyproj` is used under the hood of several python packages like basemap,\n",
      "cartopy, pyresample.  So, if you have any of one those above installed, you\n",
      "probably already have `pyproj` as well."
     ]
    },
    {
     "cell_type": "code",
     "collapsed": false,
     "input": [
      "from pyproj import Proj"
     ],
     "language": "python",
     "metadata": {},
     "outputs": [],
     "prompt_number": 2
    },
    {
     "cell_type": "markdown",
     "metadata": {},
     "source": [
      "Here is am example from real life case that I had to deal recently.  Someone\n",
      "gave me the corners of a map in UTM but the sampling site positions as lon,\n",
      "lat collected in WGS84.  Here are the data:"
     ]
    },
    {
     "cell_type": "code",
     "collapsed": false,
     "input": [
      "import numpy as np\n",
      "from pandas import DataFrame\n",
      "\n",
      "core = (-44.6360, -23.2278)\n",
      "\n",
      "print('\\nSampling site lon %s, lat %s\\n' % (core[0], core[1]))\n",
      "\n",
      "x = (529025.00, 529114.00, 545227.00, 545582.00)\n",
      "y = (7422210.00, 7422343.00, 7435702.00, 7435741.00)\n",
      "\n",
      "df = DataFrame(np.c_[x, y], columns=['Meters East', 'Meters South'])\n",
      "df"
     ],
     "language": "python",
     "metadata": {},
     "outputs": [
      {
       "output_type": "stream",
       "stream": "stdout",
       "text": [
        "\n",
        "Sampling site lon -44.636, lat -23.2278\n",
        "\n"
       ]
      },
      {
       "html": [
        "<div style=\"max-height:1000px;max-width:1500px;overflow:auto;\">\n",
        "<table border=\"1\" class=\"dataframe\">\n",
        "  <thead>\n",
        "    <tr style=\"text-align: right;\">\n",
        "      <th></th>\n",
        "      <th>Meters East</th>\n",
        "      <th>Meters South</th>\n",
        "    </tr>\n",
        "  </thead>\n",
        "  <tbody>\n",
        "    <tr>\n",
        "      <th>0</th>\n",
        "      <td> 529025</td>\n",
        "      <td> 7422210</td>\n",
        "    </tr>\n",
        "    <tr>\n",
        "      <th>1</th>\n",
        "      <td> 529114</td>\n",
        "      <td> 7422343</td>\n",
        "    </tr>\n",
        "    <tr>\n",
        "      <th>2</th>\n",
        "      <td> 545227</td>\n",
        "      <td> 7435702</td>\n",
        "    </tr>\n",
        "    <tr>\n",
        "      <th>3</th>\n",
        "      <td> 545582</td>\n",
        "      <td> 7435741</td>\n",
        "    </tr>\n",
        "  </tbody>\n",
        "</table>\n",
        "<p>4 rows \u00d7 2 columns</p>\n",
        "</div>"
       ],
       "metadata": {},
       "output_type": "pyout",
       "prompt_number": 3,
       "text": [
        "   Meters East  Meters South\n",
        "0       529025       7422210\n",
        "1       529114       7422343\n",
        "2       545227       7435702\n",
        "3       545582       7435741\n",
        "\n",
        "[4 rows x 2 columns]"
       ]
      }
     ],
     "prompt_number": 3
    },
    {
     "cell_type": "markdown",
     "metadata": {},
     "source": [
      "All that is needed to solve that problem is a `pyproj` object for Zone 23K\n",
      "(near Paraty-Brazil) using `Datum WGS-84`.  Note that we need to specify that\n",
      "we are in the South Hemisphere."
     ]
    },
    {
     "cell_type": "code",
     "collapsed": false,
     "input": [
      "myProj = Proj(\"+proj=utm +zone=23K, +south +ellps=WGS84 +datum=WGS84 +units=m +no_defs\")"
     ],
     "language": "python",
     "metadata": {},
     "outputs": [],
     "prompt_number": 4
    },
    {
     "cell_type": "markdown",
     "metadata": {},
     "source": [
      "The next cell uses the object created (`myProj`) to convert the UTM positions\n",
      "to longitude and latitude.  That is why we need the *inverse* keyword."
     ]
    },
    {
     "cell_type": "code",
     "collapsed": false,
     "input": [
      "lon, lat = myProj(df['Meters East'].values, df['Meters South'].values, inverse=True)"
     ],
     "language": "python",
     "metadata": {},
     "outputs": [],
     "prompt_number": 5
    },
    {
     "cell_type": "markdown",
     "metadata": {},
     "source": [
      "To convert back just from comparison:"
     ]
    },
    {
     "cell_type": "code",
     "collapsed": false,
     "input": [
      "UTMx, UTMy = myProj(lon, lat)"
     ],
     "language": "python",
     "metadata": {},
     "outputs": [],
     "prompt_number": 6
    },
    {
     "cell_type": "markdown",
     "metadata": {},
     "source": [
      "And now a quick table to show the results in the notebook,"
     ]
    },
    {
     "cell_type": "code",
     "collapsed": false,
     "input": [
      "DataFrame(np.c_[UTMx, UTMy, lon, lat], columns=['UTMx', 'UTMy', 'Lon', 'Lat'])"
     ],
     "language": "python",
     "metadata": {},
     "outputs": [
      {
       "html": [
        "<div style=\"max-height:1000px;max-width:1500px;overflow:auto;\">\n",
        "<table border=\"1\" class=\"dataframe\">\n",
        "  <thead>\n",
        "    <tr style=\"text-align: right;\">\n",
        "      <th></th>\n",
        "      <th>UTMx</th>\n",
        "      <th>UTMy</th>\n",
        "      <th>Lon</th>\n",
        "      <th>Lat</th>\n",
        "    </tr>\n",
        "  </thead>\n",
        "  <tbody>\n",
        "    <tr>\n",
        "      <th>0</th>\n",
        "      <td> 529025</td>\n",
        "      <td> 7422210</td>\n",
        "      <td>-44.716128</td>\n",
        "      <td>-23.309315</td>\n",
        "    </tr>\n",
        "    <tr>\n",
        "      <th>1</th>\n",
        "      <td> 529114</td>\n",
        "      <td> 7422343</td>\n",
        "      <td>-44.715260</td>\n",
        "      <td>-23.308112</td>\n",
        "    </tr>\n",
        "    <tr>\n",
        "      <th>2</th>\n",
        "      <td> 545227</td>\n",
        "      <td> 7435702</td>\n",
        "      <td>-44.558073</td>\n",
        "      <td>-23.187077</td>\n",
        "    </tr>\n",
        "    <tr>\n",
        "      <th>3</th>\n",
        "      <td> 545582</td>\n",
        "      <td> 7435741</td>\n",
        "      <td>-44.554606</td>\n",
        "      <td>-23.186714</td>\n",
        "    </tr>\n",
        "  </tbody>\n",
        "</table>\n",
        "<p>4 rows \u00d7 4 columns</p>\n",
        "</div>"
       ],
       "metadata": {},
       "output_type": "pyout",
       "prompt_number": 7,
       "text": [
        "     UTMx     UTMy        Lon        Lat\n",
        "0  529025  7422210 -44.716128 -23.309315\n",
        "1  529114  7422343 -44.715260 -23.308112\n",
        "2  545227  7435702 -44.558073 -23.187077\n",
        "3  545582  7435741 -44.554606 -23.186714\n",
        "\n",
        "[4 rows x 4 columns]"
       ]
      }
     ],
     "prompt_number": 7
    },
    {
     "cell_type": "markdown",
     "metadata": {},
     "source": [
      "Now I can make a map to show the sampling site."
     ]
    },
    {
     "cell_type": "code",
     "collapsed": false,
     "input": [
      "import matplotlib.pyplot as plt\n",
      "from mpl_toolkits.basemap import Basemap\n",
      "\n",
      "fig, ax = plt.subplots(figsize=(8, 8))\n",
      "m = Basemap(projection='merc',\n",
      "              urcrnrlat=lat[1], llcrnrlat=lat[2],\n",
      "              urcrnrlon=lon[1], llcrnrlon=lon[2],\n",
      "              resolution='f')\n",
      "m.fillcontinents()\n",
      "m.drawcoastlines()\n",
      "m.ax = ax\n",
      "pt = m.plot(core[0], core[1], 'ko', latlon=True)"
     ],
     "language": "python",
     "metadata": {},
     "outputs": [
      {
       "metadata": {},
       "output_type": "display_data",
       "png": "[encoded data removed]",
       "text": [
        "<matplotlib.figure.Figure at 0x35ea590>"
       ]
      }
     ],
     "prompt_number": 8
    },
    {
     "cell_type": "code",
     "collapsed": false,
     "input": [
      "HTML(html)"
     ],
     "language": "python",
     "metadata": {},
     "outputs": [
      {
       "html": [
        "\n",
        "<small>\n",
        "<p> This post was written as an IPython notebook. It is available for <a href=\"http://ocef\n",
        "paf.github.com/downloads/notebooks/UTM_conv.ipynb\">download</a> or as a static <a href=\"http://\n",
        "nbviewer.ipython.org/url/ocefpaf.github.com/downloads/notebooks/UTM_conv.ipynb\">html</a>.</p>\n",
        "<p></p>\n",
        "<a rel=\"license\" href=\"http://creativecommons.org/licenses/by-sa/4.0/\"><img\n",
        "alt=\"Creative Commons License\" style=\"border-width:0\"\n",
        "src=\"http://i.creativecommons.org/l/by-sa/4.0/88x31.png\" /></a><br /><span\n",
        "xmlns:dct=\"http://purl.org/dc/terms/\"\n",
        "property=\"dct:title\">python4oceanographers</span> by <a\n",
        "xmlns:cc=\"http://creativecommons.org/ns#\" href=\"http://ocefpaf.github.io/\"\n",
        "property=\"cc:attributionName\" rel=\"cc:attributionURL\">Filipe Fernandes</a> is\n",
        "licensed under a <a rel=\"license\"\n",
        "href=\"http://creativecommons.org/licenses/by-sa/4.0/\">Creative Commons\n",
        "Attribution-ShareAlike 4.0 International License</a>.<br />Based on a work at <a\n",
        "xmlns:dct=\"http://purl.org/dc/terms/\" href=\"http://ocefpaf.github.io/\"\n",
        "rel=\"dct:source\">http://ocefpaf.github.io/</a>.\n",
        " "
       ],
       "metadata": {},
       "output_type": "pyout",
       "prompt_number": 9,
       "text": [
        "<IPython.core.display.HTML at 0x296a090>"
       ]
      }
     ],
     "prompt_number": 9
    }
   ],
   "metadata": {}
  }
 ]
}